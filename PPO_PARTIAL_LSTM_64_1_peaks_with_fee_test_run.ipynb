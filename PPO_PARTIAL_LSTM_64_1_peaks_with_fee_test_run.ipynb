{
 "cells": [
  {
   "cell_type": "code",
   "execution_count": 5,
   "metadata": {},
   "outputs": [],
   "source": [
    "from ic.client import Client\n",
    "from ic.identity import Identity\n",
    "from ic.agent import Agent\n",
    "from ic.candid import encode, Types\n",
    "from meta.peaks_env import CryptoTradingEnv\n",
    "from utils.fetch_data_with_indicators import Api, fetch_data_with_indicators\n",
    "import numpy as np\n",
    "import pandas as pd\n",
    "from stable_baselines3.common.vec_env import DummyVecEnv, VecNormalize\n",
    "import quantstats as qs\n",
    "from utils.charts.plot_data_with_rsi import plot_data_with_rsi\n",
    "from scipy.signal import find_peaks\n",
    "from simulations.BuySellSimulation import BuySellInParts\n",
    "from simulations.DCAStrategyAveraging import DCAStrategy\n",
    "from simulations.BetterBuySellSimulation import BuySellWithEma\n",
    "import matplotlib.pyplot as plt\n",
    "from IPython.display import clear_output, display\n",
    "import plotly.graph_objects as go\n",
    "from plotly.subplots import make_subplots\n",
    "import quantstats as qs\n",
    "import onnxruntime as ort\n",
    "import time\n",
    "\n",
    "model_name = 'PPO_PARTIAL_LSTM_64_1_peaks_with_fee'"
   ]
  },
  {
   "cell_type": "code",
   "execution_count": 6,
   "metadata": {},
   "outputs": [],
   "source": [
    "def run_trading_session(initial_balance, strategy_class, risk_level='medium'):\n",
    "    # Data setup\n",
    "    test_data = fetch_data_with_indicators(Api.YAHOO, 'BTC-USD', '2024-05-01', '2024-11-01', '1d', ['RSI', 'EMA_50'])\n",
    "    test_data = test_data.copy()\n",
    "    test_data['Pct Change'] = test_data['Close'].pct_change() * 100\n",
    "    test_data.dropna(inplace=True)\n",
    "    peaks, properties = find_peaks(test_data['Close'], height=100, prominence=5, distance=40)\n",
    "    test_data['Peak'] = 0\n",
    "    test_data.loc[test_data.index[peaks], 'Peak'] = 1\n",
    "\n",
    "    portfolio = strategy_class(initial_balance, risk_level)\n",
    "\n",
    "    # Environment setup    \n",
    "    eval_env = DummyVecEnv([lambda: CryptoTradingEnv(test_data)])\n",
    "    eval_env = VecNormalize(eval_env, norm_obs=True, norm_reward=False)\n",
    "    \n",
    "    obs = eval_env.reset()\n",
    "    done = False\n",
    "    \n",
    "    # Load ONNX model\n",
    "    session = ort.InferenceSession(f\"onnx_exports/{model_name}.onnx\")\n",
    "    \n",
    "    # Initialize tracking variables\n",
    "    prices = []\n",
    "    portfolio_values = []\n",
    "    actions = []\n",
    "    transactions = []\n",
    "    buys = []\n",
    "    sells = []\n",
    "    crypto_balances = [0]\n",
    "    cash_balances = [initial_balance]\n",
    "    \n",
    "    strategy_name = strategy_class.__name__.replace('Strategy', '')\n",
    "    \n",
    "    # Setup visualization\n",
    "    fig = make_subplots(rows=3, cols=1, \n",
    "                       row_heights=[0.7, 0.4, 0.3],\n",
    "                       specs=[[{\"type\": \"scatter\"}],\n",
    "                             [{\"type\": \"scatter\"}],\n",
    "                             [{\"type\": \"bar\"}]],\n",
    "                       vertical_spacing=0.2)\n",
    "\n",
    "    fig.add_trace(\n",
    "        go.Scatter(x=[], y=[], name=\"Price\", line=dict(color=\"blue\", width=1)),\n",
    "        row=1, col=1\n",
    "    )\n",
    "    \n",
    "    fig.add_trace(\n",
    "        go.Scatter(x=[], y=[], name=\"Portfolio Value\", line=dict(color=\"green\", width=1)),\n",
    "        row=2, col=1\n",
    "    )\n",
    "    \n",
    "    fig.add_trace(\n",
    "        go.Bar(x=['Crypto', 'Cash'], y=[0, 0], name=\"Portfolio\"),\n",
    "        row=3, col=1\n",
    "    )\n",
    "\n",
    "    fig.update_layout(\n",
    "        height=1400,\n",
    "        showlegend=True,\n",
    "        xaxis_rangeslider_visible=True,\n",
    "        hovermode='x unified',\n",
    "        title_text=f\"Trading Session Visualization - {strategy_name}\"\n",
    "    )\n",
    "\n",
    "    k = 0\n",
    "    action_zones = []\n",
    "    current_zone_start = 0\n",
    "    current_zone_type = None\n",
    "    window_size = 30\n",
    "\n",
    "    while not done:   \n",
    "        ort_inputs = {\n",
    "            'prices': obs['prices'].astype(np.float32),\n",
    "            'portfolio': obs['portfolio'].astype(np.float32)\n",
    "        }\n",
    "        \n",
    "        ort_outputs = session.run(None, ort_inputs)\n",
    "        onnx_action_logits, onnx_value = ort_outputs\n",
    "        action = np.argmax(onnx_action_logits, axis=1)\n",
    "        \n",
    "        # Get current state\n",
    "        current_price = eval_env.env_method('current_price')[0]\n",
    "        current_step = eval_env.get_attr('current_step')[0]\n",
    "        \n",
    "        traded_crypto = portfolio.interpret_action(action, current_price, current_step)\n",
    "        \n",
    "        # Update portfolio tracking\n",
    "        total_value = portfolio.balance + (portfolio.crypto_held * current_price)\n",
    "        portfolio_values.append(total_value)\n",
    "        prices.append(current_price)\n",
    "        actions.append(action)\n",
    "        transactions.append(portfolio.transaction_history[-1])\n",
    "        \n",
    "        time.sleep(0.2)  # Add delay for visualization\n",
    "        \n",
    "        # Update balances\n",
    "        current_transaction = transactions[-1]\n",
    "        crypto_value = current_transaction.get('crypto_held', 0) * current_price\n",
    "        cash_balance = current_transaction.get('balance', 0)\n",
    "        crypto_balances.append(crypto_value)\n",
    "        cash_balances.append(cash_balance)\n",
    "       \n",
    "        # Track action zones\n",
    "        action_type = 'buy' if action == 1 else 'sell' if action == 2 else 'hold'\n",
    "        \n",
    "        if current_zone_type != action_type:\n",
    "            if current_zone_type is not None:\n",
    "                action_zones.append((current_zone_start, k, current_zone_type))\n",
    "            current_zone_start = k\n",
    "            current_zone_type = action_type\n",
    "            \n",
    "        if traded_crypto > 0:\n",
    "            if action == 1:\n",
    "                buys.append(k)\n",
    "            elif action == 2:\n",
    "                sells.append(k)\n",
    "\n",
    "        # Step environment\n",
    "        obs, rewards, done, info = eval_env.step([action])\n",
    "        k = k + 1\n",
    "        \n",
    "        # Update visualization\n",
    "        with fig.batch_update():\n",
    "            fig.data = fig.data[:3]\n",
    "            \n",
    "            fig.data[0].x = list(range(len(prices)))\n",
    "            fig.data[0].y = prices\n",
    "            \n",
    "            fig.data[1].x = list(range(len(portfolio_values)))\n",
    "            fig.data[1].y = portfolio_values\n",
    "            \n",
    "            if k > window_size:\n",
    "                visible_idx = k - window_size\n",
    "            else:\n",
    "                visible_idx = k\n",
    "                \n",
    "            fig.data[2].x = ['Crypto', 'Cash']\n",
    "            fig.data[2].y = [crypto_balances[-1], cash_balances[-1]]\n",
    "            \n",
    "            shapes = []\n",
    "            for zone_start, zone_end, zone_type in action_zones:\n",
    "                color = 'green' if zone_type == 'buy' else 'red' if zone_type == 'sell' else 'gray'\n",
    "                shapes.append(dict(\n",
    "                    type=\"rect\",\n",
    "                    x0=zone_start-0.5,\n",
    "                    x1=zone_end-0.5,\n",
    "                    y0=min(prices),\n",
    "                    y1=max(prices),\n",
    "                    fillcolor=color,\n",
    "                    opacity=0.1,\n",
    "                    layer=\"below\",\n",
    "                    xref='x',\n",
    "                    yref='y'\n",
    "                ))\n",
    "            \n",
    "            if current_zone_type is not None:\n",
    "                color = 'green' if current_zone_type == 'buy' else 'red' if current_zone_type == 'sell' else 'gray'\n",
    "                shapes.append(dict(\n",
    "                    type=\"rect\",\n",
    "                    x0=current_zone_start-0.5,\n",
    "                    x1=k-0.5,\n",
    "                    y0=min(prices),\n",
    "                    y1=max(prices),\n",
    "                    fillcolor=color,\n",
    "                    opacity=0.1,\n",
    "                    layer=\"below\",\n",
    "                    xref='x',\n",
    "                    yref='y'\n",
    "                ))\n",
    "            \n",
    "            fig.update_layout(shapes=shapes)\n",
    "            \n",
    "            if buys:\n",
    "                fig.add_trace(\n",
    "                    go.Scatter(\n",
    "                        x=buys, \n",
    "                        y=[prices[i] for i in buys], \n",
    "                        mode='markers+text',\n",
    "                        marker=dict(symbol='triangle-up', size=15, color='green'),\n",
    "                        text=[f\"Buy\\n${transactions[i].get('trade_amount', 0):.1f}\" for i in buys],\n",
    "                        textposition=\"top center\",\n",
    "                        showlegend=False, \n",
    "                        hovertemplate=\"Buy<br>\" +\n",
    "                            \"Price: $%{y:,.2f}<br>\" +\n",
    "                            \"Amount: $%{customdata[0]:.2f}<br>\" +\n",
    "                            \"Crypto: %{customdata[1]:.8f}<extra></extra>\",\n",
    "                        customdata=[[transactions[i].get('trade_amount', 0), \n",
    "                                   transactions[i].get('traded_crypto', 0)] for i in buys]\n",
    "                    ),\n",
    "                    row=1, col=1\n",
    "                )\n",
    "            \n",
    "            if sells:\n",
    "                fig.add_trace(\n",
    "                    go.Scatter(\n",
    "                        x=sells, \n",
    "                        y=[prices[i] for i in sells], \n",
    "                        mode='markers+text',\n",
    "                        marker=dict(symbol='triangle-down', size=15, color='red'),\n",
    "                        text=[f\"Sell\\n${transactions[i].get('trade_amount', 0):.1f}\" for i in sells],\n",
    "                        textposition=\"bottom center\",\n",
    "                        showlegend=False,  \n",
    "                        hovertemplate=\"Sell<br>\" +\n",
    "                            \"Price: $%{y:,.2f}<br>\" +\n",
    "                            \"Amount: $%{customdata[0]:.2f}<br>\" +\n",
    "                            \"Crypto: %{customdata[1]:.8f}<extra></extra>\",\n",
    "                        customdata=[[transactions[i].get('trade_amount', 0), \n",
    "                                   transactions[i].get('traded_crypto', 0)] for i in sells]\n",
    "                    ),\n",
    "                    row=1, col=1\n",
    "                )\n",
    "\n",
    "            fig.update_yaxes(title_text=\"Price\", row=1, col=1)\n",
    "            fig.update_yaxes(title_text=\"Portfolio Value\", row=2, col=1)\n",
    "            fig.update_yaxes(title_text=\"Amount ($)\", row=3, col=1)\n",
    "\n",
    "            if k > window_size:\n",
    "                fig.update_xaxes(range=[k-window_size, k], row=1, col=1)\n",
    "                fig.update_xaxes(range=[k-window_size, k], row=2, col=1)\n",
    "                \n",
    "        clear_output(wait=True)\n",
    "        display(fig)\n",
    "        \n",
    "    return {\n",
    "        'portfolio_values': portfolio_values,\n",
    "        'prices': prices,\n",
    "        'actions': actions,\n",
    "        'transactions': transactions,\n",
    "        'crypto_balances': crypto_balances,\n",
    "        'cash_balances': cash_balances\n",
    "    }\n",
    "\n",
    "def generate_performance_report(results):\n",
    "    portfolio_series = pd.Series(results['portfolio_values'])\n",
    "    portfolio_series.index = pd.date_range(start='2024-05-01', periods=len(portfolio_series), freq='1H')\n",
    "    returns = portfolio_series.pct_change().fillna(0)\n",
    "    \n",
    "    qs.reports.basic(returns, title='Trading Strategy Performance Report')"
   ]
  },
  {
   "cell_type": "code",
   "execution_count": 7,
   "metadata": {},
   "outputs": [],
   "source": [
    "initial_balance = 1000.0\n",
    "risk_level = 'medium'"
   ]
  },
  {
   "cell_type": "code",
   "execution_count": 8,
   "metadata": {},
   "outputs": [
    {
     "data": {
      "application/vnd.plotly.v1+json": {
       "config": {
        "plotlyServerURL": "https://plot.ly"
       },
       "data": [
        {
         "line": {
          "color": "blue",
          "width": 1
         },
         "name": "Price",
         "type": "scatter",
         "x": [
          0,
          1,
          2,
          3,
          4,
          5,
          6,
          7,
          8,
          9,
          10,
          11,
          12,
          13,
          14,
          15,
          16,
          17,
          18,
          19,
          20,
          21,
          22,
          23,
          24,
          25,
          26,
          27,
          28,
          29,
          30,
          31,
          32,
          33,
          34,
          35,
          36,
          37,
          38,
          39,
          40,
          41,
          42,
          43,
          44,
          45,
          46,
          47,
          48,
          49,
          50,
          51,
          52,
          53,
          54,
          55,
          56,
          57,
          58,
          59,
          60,
          61,
          62,
          63,
          64,
          65,
          66,
          67,
          68,
          69,
          70,
          71,
          72,
          73,
          74,
          75,
          76,
          77,
          78,
          79,
          80,
          81,
          82,
          83,
          84,
          85,
          86,
          87,
          88,
          89,
          90,
          91,
          92,
          93,
          94,
          95,
          96,
          97,
          98,
          99,
          100,
          101,
          102,
          103,
          104,
          105,
          106,
          107,
          108,
          109,
          110,
          111,
          112,
          113,
          114,
          115,
          116,
          117,
          118,
          119,
          120,
          121,
          122,
          123
         ],
         "xaxis": "x",
         "y": [
          62678.29296875,
          62851.98046875,
          62029.015625,
          60173.921875,
          56977.703125,
          56662.375,
          58303.5390625,
          55849.109375,
          56705.09765625,
          58009.2265625,
          57742.49609375,
          57344.9140625,
          57899.46484375,
          59231.953125,
          60787.79296875,
          64870.15234375,
          65097.1484375,
          64118.79296875,
          63974.06640625,
          66710.15625,
          67163.6484375,
          68154.5234375,
          67585.25,
          65927.671875,
          65372.1328125,
          65777.2265625,
          67912.0625,
          67813.3359375,
          68255.8671875,
          66819.9140625,
          66201.015625,
          64619.25,
          65357.5,
          61415.06640625,
          60680.09375,
          58116.9765625,
          53991.45703125,
          56034.31640625,
          55027.4609375,
          61710.13671875,
          60880.11328125,
          60945.8125,
          58719.484375,
          59354.515625,
          60609.56640625,
          58737.26953125,
          57560.09765625,
          58894.10546875,
          59478.97265625,
          58483.96484375,
          59493.453125,
          59012.79296875,
          61175.19140625,
          60381.9140625,
          64094.35546875,
          64178.9921875,
          64333.54296875,
          62880.66015625,
          59504.1328125,
          59027.625,
          59388.1796875,
          59119.4765625,
          58969.8984375,
          57325.48828125,
          59112.48046875,
          57431.0234375,
          57971.5390625,
          56160.48828125,
          53948.75390625,
          54139.6875,
          54841.56640625,
          57019.53515625,
          57648.7109375,
          57343.171875,
          58127.01171875,
          60571.30078125,
          60005.12109375,
          59182.8359375,
          58192.5078125,
          60308.5390625,
          61649.6796875,
          62940.45703125,
          63192.9765625,
          63394.83984375,
          63648.7109375,
          63329.80078125,
          64301.96875,
          63143.14453125,
          65181.01953125,
          65790.6640625,
          65887.6484375,
          65635.3046875,
          63329.5,
          60837.0078125,
          60632.78515625,
          60759.40234375,
          62067.4765625,
          62089.94921875,
          62818.953125,
          62236.66015625,
          62131.96875,
          60582.1015625,
          60274.5,
          62445.08984375,
          63193.0234375,
          62851.375,
          66046.125,
          67041.109375,
          67612.71875,
          67399.8359375,
          68418.7890625,
          68362.734375,
          69001.703125,
          67367.8515625,
          67361.40625,
          66432.1953125,
          68161.0546875,
          66642.4140625,
          67014.6953125,
          67929.296875,
          69907.7578125,
          72720.4921875,
          72339.5390625,
          70215.1875
         ],
         "yaxis": "y"
        },
        {
         "line": {
          "color": "green",
          "width": 1
         },
         "name": "Portfolio Value",
         "type": "scatter",
         "x": [
          0,
          1,
          2,
          3,
          4,
          5,
          6,
          7,
          8,
          9,
          10,
          11,
          12,
          13,
          14,
          15,
          16,
          17,
          18,
          19,
          20,
          21,
          22,
          23,
          24,
          25,
          26,
          27,
          28,
          29,
          30,
          31,
          32,
          33,
          34,
          35,
          36,
          37,
          38,
          39,
          40,
          41,
          42,
          43,
          44,
          45,
          46,
          47,
          48,
          49,
          50,
          51,
          52,
          53,
          54,
          55,
          56,
          57,
          58,
          59,
          60,
          61,
          62,
          63,
          64,
          65,
          66,
          67,
          68,
          69,
          70,
          71,
          72,
          73,
          74,
          75,
          76,
          77,
          78,
          79,
          80,
          81,
          82,
          83,
          84,
          85,
          86,
          87,
          88,
          89,
          90,
          91,
          92,
          93,
          94,
          95,
          96,
          97,
          98,
          99,
          100,
          101,
          102,
          103,
          104,
          105,
          106,
          107,
          108,
          109,
          110,
          111,
          112,
          113,
          114,
          115,
          116,
          117,
          118,
          119,
          120,
          121,
          122,
          123
         ],
         "xaxis": "x2",
         "y": [
          1000,
          1000.6927737330316,
          998.2309021520672,
          994.0688143504128,
          975.4902124110391,
          972.7658873579796,
          986.9449726255866,
          965.7395559231304,
          973.1349962116701,
          984.4022152449103,
          982.0977569970773,
          978.6627868738743,
          983.4539122660451,
          994.9661464110884,
          1008.408060179092,
          1043.678221763647,
          1045.1490970903,
          1040.3944813965643,
          1039.8669743651153,
          1047.3464581222224,
          1048.2762212999912,
          1049.7998623584797,
          1049.1433453536492,
          1047.7096386045564,
          1047.7096386045564,
          1047.7096386045564,
          1056.2106362349175,
          1055.9157865491206,
          1056.9070106689041,
          1054.4947210751545,
          1053.7149451369414,
          1051.7220126951502,
          1052.6521646417461,
          1047.684928229214,
          1043.8559206922166,
          1022.8179877578076,
          979.2698881264492,
          1000.8338736854752,
          990.2057232342718,
          1060.746615968275,
          1051.9850665249103,
          1052.678573391659,
          1029.1779310446284,
          1035.8811847644447,
          1049.1292317195707,
          1029.3656673407404,
          1016.939693422202,
          1031.021193870258,
          1037.1949265018534,
          1026.691837369804,
          1037.3477792252638,
          1032.27403367282,
          1055.0998479455768,
          1046.7261823892154,
          1085.9139178999403,
          1086.8073249563554,
          1088.0308786389276,
          1079.4041989424431,
          1064.3677729328856,
          1060.6454180669502,
          1064.3775057547075,
          1061.5961700537969,
          1060.0478926411774,
          1043.0266664290957,
          1061.5237537567634,
          1044.1190567679846,
          1049.7139131907097,
          1030.9677962854716,
          1008.0742189289787,
          1010.0505652063063,
          1017.315686740227,
          1039.8597574124337,
          1046.3723316987916,
          1043.2097086271247,
          1051.323204669339,
          1076.6239466420152,
          1070.7634424965045,
          1062.252000504875,
          1052.0011522139278,
          1073.9041102084345,
          1087.7862051794334,
          1101.1469917653674,
          1103.7608117104942,
          1105.850290762305,
          1107.8211481996982,
          1105.9643206538124,
          1110.2095952904751,
          1106.4143197652986,
          1111.4200166943883,
          1115.1419389506214,
          1115.5860112156665,
          1114.7194371363435,
          1108.7806614360265,
          1103.9659587478718,
          1102.7436179388992,
          1103.8877071661436,
          1118.693674365627,
          1118.948040216244,
          1127.1995658326937,
          1120.6086473112346,
          1119.4236552788357,
          1101.8808565501756,
          1098.3991438311245,
          1122.967843045153,
          1131.4336319871875,
          1127.5665459404847,
          1163.727616185987,
          1174.9897493349195,
          1179.8422432927478,
          1178.4868431630066,
          1183.3525102697342,
          1183.1517575738142,
          1184.8680462317147,
          1181.5766165975442,
          1181.566878430511,
          1180.5139258407332,
          1181.9832426148923,
          1180.6925857942751,
          1180.6925857942751,
          1180.6925857942751,
          1180.6925857942751,
          1180.6925857942751,
          1180.6925857942751,
          1180.6925857942751
         ],
         "yaxis": "y2"
        },
        {
         "name": "Portfolio",
         "type": "bar",
         "x": [
          "Crypto",
          "Cash"
         ],
         "xaxis": "x3",
         "y": [
          0,
          1180.6925857942751
         ],
         "yaxis": "y3"
        },
        {
         "customdata": [
          [
           250,
           0.003988621708709336
          ],
          [
           214.76565515324006,
           0.003569081895632053
          ],
          [
           161.07424136493006,
           0.0028269697185153084
          ],
          [
           261.9274096511391,
           0.003982037907941614
          ],
          [
           242.57638154321796,
           0.00394978619641339
          ],
          [
           181.93228615741347,
           0.002998220255014248
          ],
          [
           136.4492146180601,
           0.00234783745970199
          ],
          [
           199.84566420084488,
           0.0033585173794661773
          ],
          [
           149.88424815063365,
           0.002539222070185505
          ],
          [
           237.82845331761786,
           0.0036487378538716288
          ],
          [
           246.61204904888876,
           0.00405365184640488
          ],
          [
           184.95903678666656,
           0.003050478982781827
          ],
          [
           138.71927758999993,
           0.0022830915420330705
          ]
         ],
         "hovertemplate": "Buy<br>Price: $%{y:,.2f}<br>Amount: $%{customdata[0]:.2f}<br>Crypto: %{customdata[1]:.8f}<extra></extra>",
         "marker": {
          "color": "green",
          "size": 15,
          "symbol": "triangle-up"
         },
         "mode": "markers+text",
         "showlegend": false,
         "text": [
          "Buy\n$250.0",
          "Buy\n$214.8",
          "Buy\n$161.1",
          "Buy\n$261.9",
          "Buy\n$242.6",
          "Buy\n$181.9",
          "Buy\n$136.4",
          "Buy\n$199.8",
          "Buy\n$149.9",
          "Buy\n$237.8",
          "Buy\n$246.6",
          "Buy\n$185.0",
          "Buy\n$138.7"
         ],
         "textposition": "top center",
         "type": "scatter",
         "x": [
          0,
          3,
          4,
          25,
          33,
          34,
          35,
          58,
          59,
          88,
          93,
          94,
          95
         ],
         "xaxis": "x",
         "y": [
          62678.29296875,
          60173.921875,
          56977.703125,
          65777.2265625,
          61415.06640625,
          60680.09375,
          58116.9765625,
          59504.1328125,
          59027.625,
          65181.01953125,
          60837.0078125,
          60632.78515625,
          60759.40234375
         ],
         "yaxis": "y"
        },
        {
         "customdata": [
          [
           62.673193433257865,
           0.000997155427177334
          ],
          [
           46.38942717970231,
           0.0007478665703830006
          ],
          [
           140.11387441721416,
           0.0021599128313240907
          ],
          [
           105.45312464457392,
           0.001619934623493068
          ],
          [
           77.9011895599965,
           0.001214950967619801
          ],
          [
           58.29401541213513,
           0.0009112132257148507
          ],
          [
           45.590382498378155,
           0.000683409919286138
          ],
          [
           34.42522766822582,
           0.0005125574394646036
          ],
          [
           26.199831015791485,
           0.0003844180795984527
          ],
          [
           19.485744010635994,
           0.0002883135596988395
          ],
          [
           57.02352528281495,
           0.0008649406790965186
          ],
          [
           67.60710182037504,
           0.0009955094769854035
          ],
          [
           50.631613943832065,
           0.0007466321077390526
          ],
          [
           38.221516487819976,
           0.0005599740808042895
          ],
          [
           28.06306496742754,
           0.0004199805606032171
          ],
          [
           169.36492027554377,
           0.0026389463982348198
          ],
          [
           127.32957862730088,
           0.001979209798676115
          ],
          [
           93.34051404635457,
           0.0014844073490070861
          ],
          [
           164.04938657760098,
           0.0025877403741682353
          ],
          [
           123.52975429254907,
           0.0019408052806261765
          ],
          [
           92.18310883294032,
           0.0014556039604696324
          ],
          [
           70.1986502838709,
           0.0010917029703522243
          ],
          [
           51.700168831609076,
           0.0008187772277641682
          ],
          [
           100.41414474944197,
           0.0015262673842910334
          ],
          [
           75.42162662834274,
           0.001144700538218275
          ],
          [
           56.349576451426294,
           0.0008585254036637064
          ],
          [
           40.77748841349052,
           0.0006438940527477798
          ],
          [
           189.70797914122994,
           0.0028297261323657792
          ],
          [
           143.49410784537952,
           0.0021222945992743344
          ],
          [
           107.28173085159933,
           0.0015917209494557508
          ],
          [
           81.67771491538143,
           0.0011937907120918132
          ],
          [
           61.20809801255604,
           0.0008953430340688599
          ],
          [
           46.33514567389217,
           0.0006715072755516449
          ],
          [
           33.9285018468765,
           0.0005036304566637337
          ],
          [
           25.443941843399088,
           0.00037772284249780024
          ],
          [
           18.819718235104904,
           0.00028329213187335017
          ],
          [
           56.63781465885646,
           0.0008498763956200505
          ]
         ],
         "hovertemplate": "Sell<br>Price: $%{y:,.2f}<br>Amount: $%{customdata[0]:.2f}<br>Crypto: %{customdata[1]:.8f}<extra></extra>",
         "marker": {
          "color": "red",
          "size": 15,
          "symbol": "triangle-down"
         },
         "mode": "markers+text",
         "showlegend": false,
         "text": [
          "Sell\n$62.7",
          "Sell\n$46.4",
          "Sell\n$140.1",
          "Sell\n$105.5",
          "Sell\n$77.9",
          "Sell\n$58.3",
          "Sell\n$45.6",
          "Sell\n$34.4",
          "Sell\n$26.2",
          "Sell\n$19.5",
          "Sell\n$57.0",
          "Sell\n$67.6",
          "Sell\n$50.6",
          "Sell\n$38.2",
          "Sell\n$28.1",
          "Sell\n$169.4",
          "Sell\n$127.3",
          "Sell\n$93.3",
          "Sell\n$164.0",
          "Sell\n$123.5",
          "Sell\n$92.2",
          "Sell\n$70.2",
          "Sell\n$51.7",
          "Sell\n$100.4",
          "Sell\n$75.4",
          "Sell\n$56.3",
          "Sell\n$40.8",
          "Sell\n$189.7",
          "Sell\n$143.5",
          "Sell\n$107.3",
          "Sell\n$81.7",
          "Sell\n$61.2",
          "Sell\n$46.3",
          "Sell\n$33.9",
          "Sell\n$25.4",
          "Sell\n$18.8",
          "Sell\n$56.6"
         ],
         "textposition": "bottom center",
         "type": "scatter",
         "x": [
          1,
          2,
          15,
          16,
          17,
          18,
          19,
          20,
          21,
          22,
          23,
          26,
          27,
          28,
          29,
          55,
          56,
          57,
          83,
          84,
          85,
          86,
          87,
          89,
          90,
          91,
          92,
          107,
          108,
          109,
          110,
          111,
          112,
          113,
          114,
          115,
          117
         ],
         "xaxis": "x",
         "y": [
          62851.98046875,
          62029.015625,
          64870.15234375,
          65097.1484375,
          64118.79296875,
          63974.06640625,
          66710.15625,
          67163.6484375,
          68154.5234375,
          67585.25,
          65927.671875,
          67912.0625,
          67813.3359375,
          68255.8671875,
          66819.9140625,
          64178.9921875,
          64333.54296875,
          62880.66015625,
          63394.83984375,
          63648.7109375,
          63329.80078125,
          64301.96875,
          63143.14453125,
          65790.6640625,
          65887.6484375,
          65635.3046875,
          63329.5,
          67041.109375,
          67612.71875,
          67399.8359375,
          68418.7890625,
          68362.734375,
          69001.703125,
          67367.8515625,
          67361.40625,
          66432.1953125,
          66642.4140625
         ],
         "yaxis": "y"
        }
       ],
       "layout": {
        "height": 1400,
        "hovermode": "x unified",
        "shapes": [
         {
          "fillcolor": "green",
          "layer": "below",
          "opacity": 0.1,
          "type": "rect",
          "x0": -0.5,
          "x1": 0.5,
          "xref": "x",
          "y0": 53948.75390625,
          "y1": 72720.4921875,
          "yref": "y"
         },
         {
          "fillcolor": "red",
          "layer": "below",
          "opacity": 0.1,
          "type": "rect",
          "x0": 0.5,
          "x1": 2.5,
          "xref": "x",
          "y0": 53948.75390625,
          "y1": 72720.4921875,
          "yref": "y"
         },
         {
          "fillcolor": "green",
          "layer": "below",
          "opacity": 0.1,
          "type": "rect",
          "x0": 2.5,
          "x1": 14.5,
          "xref": "x",
          "y0": 53948.75390625,
          "y1": 72720.4921875,
          "yref": "y"
         },
         {
          "fillcolor": "red",
          "layer": "below",
          "opacity": 0.1,
          "type": "rect",
          "x0": 14.5,
          "x1": 24.5,
          "xref": "x",
          "y0": 53948.75390625,
          "y1": 72720.4921875,
          "yref": "y"
         },
         {
          "fillcolor": "green",
          "layer": "below",
          "opacity": 0.1,
          "type": "rect",
          "x0": 24.5,
          "x1": 25.5,
          "xref": "x",
          "y0": 53948.75390625,
          "y1": 72720.4921875,
          "yref": "y"
         },
         {
          "fillcolor": "red",
          "layer": "below",
          "opacity": 0.1,
          "type": "rect",
          "x0": 25.5,
          "x1": 29.5,
          "xref": "x",
          "y0": 53948.75390625,
          "y1": 72720.4921875,
          "yref": "y"
         },
         {
          "fillcolor": "gray",
          "layer": "below",
          "opacity": 0.1,
          "type": "rect",
          "x0": 29.5,
          "x1": 32.5,
          "xref": "x",
          "y0": 53948.75390625,
          "y1": 72720.4921875,
          "yref": "y"
         },
         {
          "fillcolor": "green",
          "layer": "below",
          "opacity": 0.1,
          "type": "rect",
          "x0": 32.5,
          "x1": 54.5,
          "xref": "x",
          "y0": 53948.75390625,
          "y1": 72720.4921875,
          "yref": "y"
         },
         {
          "fillcolor": "red",
          "layer": "below",
          "opacity": 0.1,
          "type": "rect",
          "x0": 54.5,
          "x1": 57.5,
          "xref": "x",
          "y0": 53948.75390625,
          "y1": 72720.4921875,
          "yref": "y"
         },
         {
          "fillcolor": "green",
          "layer": "below",
          "opacity": 0.1,
          "type": "rect",
          "x0": 57.5,
          "x1": 82.5,
          "xref": "x",
          "y0": 53948.75390625,
          "y1": 72720.4921875,
          "yref": "y"
         },
         {
          "fillcolor": "red",
          "layer": "below",
          "opacity": 0.1,
          "type": "rect",
          "x0": 82.5,
          "x1": 87.5,
          "xref": "x",
          "y0": 53948.75390625,
          "y1": 72720.4921875,
          "yref": "y"
         },
         {
          "fillcolor": "green",
          "layer": "below",
          "opacity": 0.1,
          "type": "rect",
          "x0": 87.5,
          "x1": 88.5,
          "xref": "x",
          "y0": 53948.75390625,
          "y1": 72720.4921875,
          "yref": "y"
         },
         {
          "fillcolor": "red",
          "layer": "below",
          "opacity": 0.1,
          "type": "rect",
          "x0": 88.5,
          "x1": 92.5,
          "xref": "x",
          "y0": 53948.75390625,
          "y1": 72720.4921875,
          "yref": "y"
         },
         {
          "fillcolor": "green",
          "layer": "below",
          "opacity": 0.1,
          "type": "rect",
          "x0": 92.5,
          "x1": 97.5,
          "xref": "x",
          "y0": 53948.75390625,
          "y1": 72720.4921875,
          "yref": "y"
         },
         {
          "fillcolor": "gray",
          "layer": "below",
          "opacity": 0.1,
          "type": "rect",
          "x0": 97.5,
          "x1": 98.5,
          "xref": "x",
          "y0": 53948.75390625,
          "y1": 72720.4921875,
          "yref": "y"
         },
         {
          "fillcolor": "green",
          "layer": "below",
          "opacity": 0.1,
          "type": "rect",
          "x0": 98.5,
          "x1": 106.5,
          "xref": "x",
          "y0": 53948.75390625,
          "y1": 72720.4921875,
          "yref": "y"
         },
         {
          "fillcolor": "red",
          "layer": "below",
          "opacity": 0.1,
          "type": "rect",
          "x0": 106.5,
          "x1": 115.5,
          "xref": "x",
          "y0": 53948.75390625,
          "y1": 72720.4921875,
          "yref": "y"
         },
         {
          "fillcolor": "gray",
          "layer": "below",
          "opacity": 0.1,
          "type": "rect",
          "x0": 115.5,
          "x1": 116.5,
          "xref": "x",
          "y0": 53948.75390625,
          "y1": 72720.4921875,
          "yref": "y"
         },
         {
          "fillcolor": "red",
          "layer": "below",
          "opacity": 0.1,
          "type": "rect",
          "x0": 116.5,
          "x1": 117.5,
          "xref": "x",
          "y0": 53948.75390625,
          "y1": 72720.4921875,
          "yref": "y"
         },
         {
          "fillcolor": "gray",
          "layer": "below",
          "opacity": 0.1,
          "type": "rect",
          "x0": 117.5,
          "x1": 119.5,
          "xref": "x",
          "y0": 53948.75390625,
          "y1": 72720.4921875,
          "yref": "y"
         },
         {
          "fillcolor": "red",
          "layer": "below",
          "opacity": 0.1,
          "type": "rect",
          "x0": 119.5,
          "x1": 123.5,
          "xref": "x",
          "y0": 53948.75390625,
          "y1": 72720.4921875,
          "yref": "y"
         }
        ],
        "showlegend": true,
        "template": {
         "data": {
          "bar": [
           {
            "error_x": {
             "color": "#2a3f5f"
            },
            "error_y": {
             "color": "#2a3f5f"
            },
            "marker": {
             "line": {
              "color": "#E5ECF6",
              "width": 0.5
             },
             "pattern": {
              "fillmode": "overlay",
              "size": 10,
              "solidity": 0.2
             }
            },
            "type": "bar"
           }
          ],
          "barpolar": [
           {
            "marker": {
             "line": {
              "color": "#E5ECF6",
              "width": 0.5
             },
             "pattern": {
              "fillmode": "overlay",
              "size": 10,
              "solidity": 0.2
             }
            },
            "type": "barpolar"
           }
          ],
          "carpet": [
           {
            "aaxis": {
             "endlinecolor": "#2a3f5f",
             "gridcolor": "white",
             "linecolor": "white",
             "minorgridcolor": "white",
             "startlinecolor": "#2a3f5f"
            },
            "baxis": {
             "endlinecolor": "#2a3f5f",
             "gridcolor": "white",
             "linecolor": "white",
             "minorgridcolor": "white",
             "startlinecolor": "#2a3f5f"
            },
            "type": "carpet"
           }
          ],
          "choropleth": [
           {
            "colorbar": {
             "outlinewidth": 0,
             "ticks": ""
            },
            "type": "choropleth"
           }
          ],
          "contour": [
           {
            "colorbar": {
             "outlinewidth": 0,
             "ticks": ""
            },
            "colorscale": [
             [
              0,
              "#0d0887"
             ],
             [
              0.1111111111111111,
              "#46039f"
             ],
             [
              0.2222222222222222,
              "#7201a8"
             ],
             [
              0.3333333333333333,
              "#9c179e"
             ],
             [
              0.4444444444444444,
              "#bd3786"
             ],
             [
              0.5555555555555556,
              "#d8576b"
             ],
             [
              0.6666666666666666,
              "#ed7953"
             ],
             [
              0.7777777777777778,
              "#fb9f3a"
             ],
             [
              0.8888888888888888,
              "#fdca26"
             ],
             [
              1,
              "#f0f921"
             ]
            ],
            "type": "contour"
           }
          ],
          "contourcarpet": [
           {
            "colorbar": {
             "outlinewidth": 0,
             "ticks": ""
            },
            "type": "contourcarpet"
           }
          ],
          "heatmap": [
           {
            "colorbar": {
             "outlinewidth": 0,
             "ticks": ""
            },
            "colorscale": [
             [
              0,
              "#0d0887"
             ],
             [
              0.1111111111111111,
              "#46039f"
             ],
             [
              0.2222222222222222,
              "#7201a8"
             ],
             [
              0.3333333333333333,
              "#9c179e"
             ],
             [
              0.4444444444444444,
              "#bd3786"
             ],
             [
              0.5555555555555556,
              "#d8576b"
             ],
             [
              0.6666666666666666,
              "#ed7953"
             ],
             [
              0.7777777777777778,
              "#fb9f3a"
             ],
             [
              0.8888888888888888,
              "#fdca26"
             ],
             [
              1,
              "#f0f921"
             ]
            ],
            "type": "heatmap"
           }
          ],
          "heatmapgl": [
           {
            "colorbar": {
             "outlinewidth": 0,
             "ticks": ""
            },
            "colorscale": [
             [
              0,
              "#0d0887"
             ],
             [
              0.1111111111111111,
              "#46039f"
             ],
             [
              0.2222222222222222,
              "#7201a8"
             ],
             [
              0.3333333333333333,
              "#9c179e"
             ],
             [
              0.4444444444444444,
              "#bd3786"
             ],
             [
              0.5555555555555556,
              "#d8576b"
             ],
             [
              0.6666666666666666,
              "#ed7953"
             ],
             [
              0.7777777777777778,
              "#fb9f3a"
             ],
             [
              0.8888888888888888,
              "#fdca26"
             ],
             [
              1,
              "#f0f921"
             ]
            ],
            "type": "heatmapgl"
           }
          ],
          "histogram": [
           {
            "marker": {
             "pattern": {
              "fillmode": "overlay",
              "size": 10,
              "solidity": 0.2
             }
            },
            "type": "histogram"
           }
          ],
          "histogram2d": [
           {
            "colorbar": {
             "outlinewidth": 0,
             "ticks": ""
            },
            "colorscale": [
             [
              0,
              "#0d0887"
             ],
             [
              0.1111111111111111,
              "#46039f"
             ],
             [
              0.2222222222222222,
              "#7201a8"
             ],
             [
              0.3333333333333333,
              "#9c179e"
             ],
             [
              0.4444444444444444,
              "#bd3786"
             ],
             [
              0.5555555555555556,
              "#d8576b"
             ],
             [
              0.6666666666666666,
              "#ed7953"
             ],
             [
              0.7777777777777778,
              "#fb9f3a"
             ],
             [
              0.8888888888888888,
              "#fdca26"
             ],
             [
              1,
              "#f0f921"
             ]
            ],
            "type": "histogram2d"
           }
          ],
          "histogram2dcontour": [
           {
            "colorbar": {
             "outlinewidth": 0,
             "ticks": ""
            },
            "colorscale": [
             [
              0,
              "#0d0887"
             ],
             [
              0.1111111111111111,
              "#46039f"
             ],
             [
              0.2222222222222222,
              "#7201a8"
             ],
             [
              0.3333333333333333,
              "#9c179e"
             ],
             [
              0.4444444444444444,
              "#bd3786"
             ],
             [
              0.5555555555555556,
              "#d8576b"
             ],
             [
              0.6666666666666666,
              "#ed7953"
             ],
             [
              0.7777777777777778,
              "#fb9f3a"
             ],
             [
              0.8888888888888888,
              "#fdca26"
             ],
             [
              1,
              "#f0f921"
             ]
            ],
            "type": "histogram2dcontour"
           }
          ],
          "mesh3d": [
           {
            "colorbar": {
             "outlinewidth": 0,
             "ticks": ""
            },
            "type": "mesh3d"
           }
          ],
          "parcoords": [
           {
            "line": {
             "colorbar": {
              "outlinewidth": 0,
              "ticks": ""
             }
            },
            "type": "parcoords"
           }
          ],
          "pie": [
           {
            "automargin": true,
            "type": "pie"
           }
          ],
          "scatter": [
           {
            "fillpattern": {
             "fillmode": "overlay",
             "size": 10,
             "solidity": 0.2
            },
            "type": "scatter"
           }
          ],
          "scatter3d": [
           {
            "line": {
             "colorbar": {
              "outlinewidth": 0,
              "ticks": ""
             }
            },
            "marker": {
             "colorbar": {
              "outlinewidth": 0,
              "ticks": ""
             }
            },
            "type": "scatter3d"
           }
          ],
          "scattercarpet": [
           {
            "marker": {
             "colorbar": {
              "outlinewidth": 0,
              "ticks": ""
             }
            },
            "type": "scattercarpet"
           }
          ],
          "scattergeo": [
           {
            "marker": {
             "colorbar": {
              "outlinewidth": 0,
              "ticks": ""
             }
            },
            "type": "scattergeo"
           }
          ],
          "scattergl": [
           {
            "marker": {
             "colorbar": {
              "outlinewidth": 0,
              "ticks": ""
             }
            },
            "type": "scattergl"
           }
          ],
          "scattermapbox": [
           {
            "marker": {
             "colorbar": {
              "outlinewidth": 0,
              "ticks": ""
             }
            },
            "type": "scattermapbox"
           }
          ],
          "scatterpolar": [
           {
            "marker": {
             "colorbar": {
              "outlinewidth": 0,
              "ticks": ""
             }
            },
            "type": "scatterpolar"
           }
          ],
          "scatterpolargl": [
           {
            "marker": {
             "colorbar": {
              "outlinewidth": 0,
              "ticks": ""
             }
            },
            "type": "scatterpolargl"
           }
          ],
          "scatterternary": [
           {
            "marker": {
             "colorbar": {
              "outlinewidth": 0,
              "ticks": ""
             }
            },
            "type": "scatterternary"
           }
          ],
          "surface": [
           {
            "colorbar": {
             "outlinewidth": 0,
             "ticks": ""
            },
            "colorscale": [
             [
              0,
              "#0d0887"
             ],
             [
              0.1111111111111111,
              "#46039f"
             ],
             [
              0.2222222222222222,
              "#7201a8"
             ],
             [
              0.3333333333333333,
              "#9c179e"
             ],
             [
              0.4444444444444444,
              "#bd3786"
             ],
             [
              0.5555555555555556,
              "#d8576b"
             ],
             [
              0.6666666666666666,
              "#ed7953"
             ],
             [
              0.7777777777777778,
              "#fb9f3a"
             ],
             [
              0.8888888888888888,
              "#fdca26"
             ],
             [
              1,
              "#f0f921"
             ]
            ],
            "type": "surface"
           }
          ],
          "table": [
           {
            "cells": {
             "fill": {
              "color": "#EBF0F8"
             },
             "line": {
              "color": "white"
             }
            },
            "header": {
             "fill": {
              "color": "#C8D4E3"
             },
             "line": {
              "color": "white"
             }
            },
            "type": "table"
           }
          ]
         },
         "layout": {
          "annotationdefaults": {
           "arrowcolor": "#2a3f5f",
           "arrowhead": 0,
           "arrowwidth": 1
          },
          "autotypenumbers": "strict",
          "coloraxis": {
           "colorbar": {
            "outlinewidth": 0,
            "ticks": ""
           }
          },
          "colorscale": {
           "diverging": [
            [
             0,
             "#8e0152"
            ],
            [
             0.1,
             "#c51b7d"
            ],
            [
             0.2,
             "#de77ae"
            ],
            [
             0.3,
             "#f1b6da"
            ],
            [
             0.4,
             "#fde0ef"
            ],
            [
             0.5,
             "#f7f7f7"
            ],
            [
             0.6,
             "#e6f5d0"
            ],
            [
             0.7,
             "#b8e186"
            ],
            [
             0.8,
             "#7fbc41"
            ],
            [
             0.9,
             "#4d9221"
            ],
            [
             1,
             "#276419"
            ]
           ],
           "sequential": [
            [
             0,
             "#0d0887"
            ],
            [
             0.1111111111111111,
             "#46039f"
            ],
            [
             0.2222222222222222,
             "#7201a8"
            ],
            [
             0.3333333333333333,
             "#9c179e"
            ],
            [
             0.4444444444444444,
             "#bd3786"
            ],
            [
             0.5555555555555556,
             "#d8576b"
            ],
            [
             0.6666666666666666,
             "#ed7953"
            ],
            [
             0.7777777777777778,
             "#fb9f3a"
            ],
            [
             0.8888888888888888,
             "#fdca26"
            ],
            [
             1,
             "#f0f921"
            ]
           ],
           "sequentialminus": [
            [
             0,
             "#0d0887"
            ],
            [
             0.1111111111111111,
             "#46039f"
            ],
            [
             0.2222222222222222,
             "#7201a8"
            ],
            [
             0.3333333333333333,
             "#9c179e"
            ],
            [
             0.4444444444444444,
             "#bd3786"
            ],
            [
             0.5555555555555556,
             "#d8576b"
            ],
            [
             0.6666666666666666,
             "#ed7953"
            ],
            [
             0.7777777777777778,
             "#fb9f3a"
            ],
            [
             0.8888888888888888,
             "#fdca26"
            ],
            [
             1,
             "#f0f921"
            ]
           ]
          },
          "colorway": [
           "#636efa",
           "#EF553B",
           "#00cc96",
           "#ab63fa",
           "#FFA15A",
           "#19d3f3",
           "#FF6692",
           "#B6E880",
           "#FF97FF",
           "#FECB52"
          ],
          "font": {
           "color": "#2a3f5f"
          },
          "geo": {
           "bgcolor": "white",
           "lakecolor": "white",
           "landcolor": "#E5ECF6",
           "showlakes": true,
           "showland": true,
           "subunitcolor": "white"
          },
          "hoverlabel": {
           "align": "left"
          },
          "hovermode": "closest",
          "mapbox": {
           "style": "light"
          },
          "paper_bgcolor": "white",
          "plot_bgcolor": "#E5ECF6",
          "polar": {
           "angularaxis": {
            "gridcolor": "white",
            "linecolor": "white",
            "ticks": ""
           },
           "bgcolor": "#E5ECF6",
           "radialaxis": {
            "gridcolor": "white",
            "linecolor": "white",
            "ticks": ""
           }
          },
          "scene": {
           "xaxis": {
            "backgroundcolor": "#E5ECF6",
            "gridcolor": "white",
            "gridwidth": 2,
            "linecolor": "white",
            "showbackground": true,
            "ticks": "",
            "zerolinecolor": "white"
           },
           "yaxis": {
            "backgroundcolor": "#E5ECF6",
            "gridcolor": "white",
            "gridwidth": 2,
            "linecolor": "white",
            "showbackground": true,
            "ticks": "",
            "zerolinecolor": "white"
           },
           "zaxis": {
            "backgroundcolor": "#E5ECF6",
            "gridcolor": "white",
            "gridwidth": 2,
            "linecolor": "white",
            "showbackground": true,
            "ticks": "",
            "zerolinecolor": "white"
           }
          },
          "shapedefaults": {
           "line": {
            "color": "#2a3f5f"
           }
          },
          "ternary": {
           "aaxis": {
            "gridcolor": "white",
            "linecolor": "white",
            "ticks": ""
           },
           "baxis": {
            "gridcolor": "white",
            "linecolor": "white",
            "ticks": ""
           },
           "bgcolor": "#E5ECF6",
           "caxis": {
            "gridcolor": "white",
            "linecolor": "white",
            "ticks": ""
           }
          },
          "title": {
           "x": 0.05
          },
          "xaxis": {
           "automargin": true,
           "gridcolor": "white",
           "linecolor": "white",
           "ticks": "",
           "title": {
            "standoff": 15
           },
           "zerolinecolor": "white",
           "zerolinewidth": 2
          },
          "yaxis": {
           "automargin": true,
           "gridcolor": "white",
           "linecolor": "white",
           "ticks": "",
           "title": {
            "standoff": 15
           },
           "zerolinecolor": "white",
           "zerolinewidth": 2
          }
         }
        },
        "title": {
         "text": "Trading Session Visualization - BuySellInParts"
        },
        "xaxis": {
         "anchor": "y",
         "domain": [
          0,
          1
         ],
         "range": [
          94,
          124
         ],
         "rangeslider": {
          "visible": true
         }
        },
        "xaxis2": {
         "anchor": "y2",
         "domain": [
          0,
          1
         ],
         "range": [
          94,
          124
         ]
        },
        "xaxis3": {
         "anchor": "y3",
         "domain": [
          0,
          1
         ]
        },
        "yaxis": {
         "anchor": "x",
         "domain": [
          0.7000000000000001,
          1
         ],
         "title": {
          "text": "Price"
         }
        },
        "yaxis2": {
         "anchor": "x2",
         "domain": [
          0.3285714285714286,
          0.5000000000000001
         ],
         "title": {
          "text": "Portfolio Value"
         }
        },
        "yaxis3": {
         "anchor": "x3",
         "domain": [
          0,
          0.1285714285714286
         ],
         "title": {
          "text": "Amount ($)"
         }
        }
       }
      }
     },
     "metadata": {},
     "output_type": "display_data"
    },
    {
     "name": "stdout",
     "output_type": "stream",
     "text": [
      "BuySellInParts Strategy - Final Portfolio Value: $1180.69\n",
      "BuySellInParts Strategy - Total Transactions: 124\n"
     ]
    },
    {
     "name": "stderr",
     "output_type": "stream",
     "text": [
      "/tmp/ipykernel_63826/333491979.py:236: FutureWarning:\n",
      "\n",
      "'H' is deprecated and will be removed in a future version, please use 'h' instead.\n",
      "\n"
     ]
    },
    {
     "data": {
      "text/html": [
       "<h4>Performance Metrics</h4>"
      ],
      "text/plain": [
       "<IPython.core.display.HTML object>"
      ]
     },
     "metadata": {},
     "output_type": "display_data"
    },
    {
     "name": "stdout",
     "output_type": "stream",
     "text": [
      "                    Strategy\n",
      "------------------  ----------\n",
      "Start Period        2024-05-01\n",
      "End Period          2024-05-06\n",
      "Risk-Free Rate      0.0%\n",
      "Time in Market      93.0%\n",
      "\n",
      "Cumulative Return   18.07%\n",
      "CAGR﹪              432111.72%\n",
      "\n",
      "Sharpe              1.73\n",
      "Prob. Sharpe Ratio  90.17%\n",
      "Sortino             3.07\n",
      "Sortino/√2          2.17\n",
      "Omega               1.43\n",
      "\n",
      "Max Drawdown        -7.35%\n",
      "Longest DD Days     1\n",
      "\n",
      "Gain/Pain Ratio     15.48\n",
      "Gain/Pain (1M)      -\n",
      "\n",
      "Payoff Ratio        1.4\n",
      "Profit Factor       1.43\n",
      "Common Sense Ratio  1.7\n",
      "CPC Index           1.01\n",
      "Tail Ratio          1.19\n",
      "Outlier Win Ratio   4.19\n",
      "Outlier Loss Ratio  3.07\n",
      "\n",
      "MTD                 18.07%\n",
      "3M                  18.07%\n",
      "6M                  18.07%\n",
      "YTD                 18.07%\n",
      "1Y                  18.07%\n",
      "3Y (ann.)           432111.72%\n",
      "5Y (ann.)           432111.72%\n",
      "10Y (ann.)          432111.72%\n",
      "All-time (ann.)     432111.72%\n",
      "\n",
      "Avg. Drawdown       -1.87%\n",
      "Avg. Drawdown Days  1\n",
      "Recovery Factor     2.4\n",
      "Ulcer Index         0.02\n",
      "Serenity Index      2.38\n"
     ]
    },
    {
     "data": {
      "text/html": [
       "<h4>Strategy Visualization</h4>"
      ],
      "text/plain": [
       "<IPython.core.display.HTML object>"
      ]
     },
     "metadata": {},
     "output_type": "display_data"
    },
    {
     "name": "stderr",
     "output_type": "stream",
     "text": [
      "findfont: Font family 'Arial' not found.\n",
      "findfont: Font family 'Arial' not found.\n",
      "findfont: Font family 'Arial' not found.\n",
      "findfont: Font family 'Arial' not found.\n",
      "findfont: Font family 'Arial' not found.\n",
      "findfont: Font family 'Arial' not found.\n",
      "findfont: Font family 'Arial' not found.\n",
      "findfont: Font family 'Arial' not found.\n",
      "findfont: Font family 'Arial' not found.\n",
      "findfont: Font family 'Arial' not found.\n",
      "findfont: Font family 'Arial' not found.\n",
      "findfont: Font family 'Arial' not found.\n",
      "findfont: Font family 'Arial' not found.\n",
      "findfont: Font family 'Arial' not found.\n",
      "findfont: Font family 'Arial' not found.\n",
      "findfont: Font family 'Arial' not found.\n"
     ]
    },
    {
     "data": {
      "image/png": "[encoded data removed]",
      "text/plain": [
       "<Figure size 800x800 with 3 Axes>"
      ]
     },
     "metadata": {},
     "output_type": "display_data"
    },
    {
     "name": "stderr",
     "output_type": "stream",
     "text": [
      "findfont: Font family 'Arial' not found.\n",
      "findfont: Font family 'Arial' not found.\n",
      "findfont: Font family 'Arial' not found.\n",
      "findfont: Font family 'Arial' not found.\n",
      "findfont: Font family 'Arial' not found.\n",
      "findfont: Font family 'Arial' not found.\n",
      "findfont: Font family 'Arial' not found.\n",
      "findfont: Font family 'Arial' not found.\n"
     ]
    },
    {
     "data": {
      "image/png": "[encoded data removed]",
      "text/plain": [
       "<Figure size 840.8x400 with 2 Axes>"
      ]
     },
     "metadata": {},
     "output_type": "display_data"
    }
   ],
   "source": [
    "\n",
    "print(\"Running BuySellInParts Strategy...\")\n",
    "results_buy_sell = run_trading_session(initial_balance, BuySellInParts, risk_level)\n",
    "print(f\"BuySellInParts Strategy - Final Portfolio Value: ${results_buy_sell['portfolio_values'][-1]:.2f}\")\n",
    "generate_performance_report(results_buy_sell)"
   ]
  },
  {
   "cell_type": "code",
   "execution_count": 9,
   "metadata": {},
   "outputs": [
    {
     "data": {
      "application/vnd.plotly.v1+json": {
       "config": {
        "plotlyServerURL": "https://plot.ly"
       },
       "data": [
        {
         "line": {
          "color": "blue",
          "width": 1
         },
         "name": "Price",
         "type": "scatter",
         "x": [
          0,
          1,
          2,
          3,
          4,
          5,
          6,
          7,
          8,
          9,
          10,
          11,
          12,
          13,
          14,
          15,
          16,
          17,
          18,
          19,
          20,
          21,
          22,
          23,
          24,
          25,
          26,
          27,
          28,
          29,
          30,
          31,
          32,
          33,
          34,
          35,
          36,
          37,
          38,
          39,
          40,
          41,
          42,
          43,
          44,
          45,
          46,
          47,
          48,
          49,
          50,
          51,
          52,
          53,
          54,
          55,
          56,
          57,
          58,
          59,
          60,
          61,
          62,
          63,
          64,
          65,
          66,
          67,
          68,
          69,
          70,
          71,
          72,
          73,
          74,
          75,
          76,
          77,
          78,
          79,
          80,
          81,
          82,
          83,
          84,
          85,
          86,
          87,
          88,
          89,
          90,
          91,
          92,
          93,
          94,
          95,
          96,
          97,
          98,
          99,
          100,
          101,
          102,
          103,
          104,
          105,
          106,
          107,
          108,
          109,
          110,
          111,
          112,
          113,
          114,
          115,
          116,
          117,
          118,
          119,
          120,
          121,
          122,
          123
         ],
         "xaxis": "x",
         "y": [
          62678.29296875,
          62851.98046875,
          62029.015625,
          60173.921875,
          56977.703125,
          56662.375,
          58303.5390625,
          55849.109375,
          56705.09765625,
          58009.2265625,
          57742.49609375,
          57344.9140625,
          57899.46484375,
          59231.953125,
          60787.79296875,
          64870.15234375,
          65097.1484375,
          64118.79296875,
          63974.06640625,
          66710.15625,
          67163.6484375,
          68154.5234375,
          67585.25,
          65927.671875,
          65372.1328125,
          65777.2265625,
          67912.0625,
          67813.3359375,
          68255.8671875,
          66819.9140625,
          66201.015625,
          64619.25,
          65357.5,
          61415.06640625,
          60680.09375,
          58116.9765625,
          53991.45703125,
          56034.31640625,
          55027.4609375,
          61710.13671875,
          60880.11328125,
          60945.8125,
          58719.484375,
          59354.515625,
          60609.56640625,
          58737.26953125,
          57560.09765625,
          58894.10546875,
          59478.97265625,
          58483.96484375,
          59493.453125,
          59012.79296875,
          61175.19140625,
          60381.9140625,
          64094.35546875,
          64178.9921875,
          64333.54296875,
          62880.66015625,
          59504.1328125,
          59027.625,
          59388.1796875,
          59119.4765625,
          58969.8984375,
          57325.48828125,
          59112.48046875,
          57431.0234375,
          57971.5390625,
          56160.48828125,
          53948.75390625,
          54139.6875,
          54841.56640625,
          57019.53515625,
          57648.7109375,
          57343.171875,
          58127.01171875,
          60571.30078125,
          60005.12109375,
          59182.8359375,
          58192.5078125,
          60308.5390625,
          61649.6796875,
          62940.45703125,
          63192.9765625,
          63394.83984375,
          63648.7109375,
          63329.80078125,
          64301.96875,
          63143.14453125,
          65181.01953125,
          65790.6640625,
          65887.6484375,
          65635.3046875,
          63329.5,
          60837.0078125,
          60632.78515625,
          60759.40234375,
          62067.4765625,
          62089.94921875,
          62818.953125,
          62236.66015625,
          62131.96875,
          60582.1015625,
          60274.5,
          62445.08984375,
          63193.0234375,
          62851.375,
          66046.125,
          67041.109375,
          67612.71875,
          67399.8359375,
          68418.7890625,
          68362.734375,
          69001.703125,
          67367.8515625,
          67361.40625,
          66432.1953125,
          68161.0546875,
          66642.4140625,
          67014.6953125,
          67929.296875,
          69907.7578125,
          72720.4921875,
          72339.5390625,
          70215.1875
         ],
         "yaxis": "y"
        },
        {
         "line": {
          "color": "green",
          "width": 1
         },
         "name": "Portfolio Value",
         "type": "scatter",
         "x": [
          0,
          1,
          2,
          3,
          4,
          5,
          6,
          7,
          8,
          9,
          10,
          11,
          12,
          13,
          14,
          15,
          16,
          17,
          18,
          19,
          20,
          21,
          22,
          23,
          24,
          25,
          26,
          27,
          28,
          29,
          30,
          31,
          32,
          33,
          34,
          35,
          36,
          37,
          38,
          39,
          40,
          41,
          42,
          43,
          44,
          45,
          46,
          47,
          48,
          49,
          50,
          51,
          52,
          53,
          54,
          55,
          56,
          57,
          58,
          59,
          60,
          61,
          62,
          63,
          64,
          65,
          66,
          67,
          68,
          69,
          70,
          71,
          72,
          73,
          74,
          75,
          76,
          77,
          78,
          79,
          80,
          81,
          82,
          83,
          84,
          85,
          86,
          87,
          88,
          89,
          90,
          91,
          92,
          93,
          94,
          95,
          96,
          97,
          98,
          99,
          100,
          101,
          102,
          103,
          104,
          105,
          106,
          107,
          108,
          109,
          110,
          111,
          112,
          113,
          114,
          115,
          116,
          117,
          118,
          119,
          120,
          121,
          122,
          123
         ],
         "xaxis": "x2",
         "y": [
          1000,
          1000.6927737330315,
          997.4102782917456,
          990.0110110888046,
          967.3031890473566,
          964.2846600659911,
          983.0497535423931,
          951.6557960085464,
          963.5137950507682,
          981.5798827063884,
          977.8848675849779,
          972.3771667799126,
          980.0593544651495,
          998.5183043233887,
          1020.0713416501342,
          1076.62423450991,
          1076.62423450991,
          1076.62423450991,
          1076.62423450991,
          1076.62423450991,
          1076.62423450991,
          1076.62423450991,
          1076.62423450991,
          1076.62423450991,
          1076.62423450991,
          1076.62423450991,
          1085.3598419044815,
          1085.3598419044815,
          1085.3598419044815,
          1085.3598419044815,
          1085.3598419044815,
          1085.3598419044815,
          1085.3598419044815,
          1085.3598419044815,
          1082.1126346120766,
          1062.1924242746738,
          1019.2948520428848,
          1044.8679391315063,
          1030.7211738967144,
          1132.435444330331,
          1119.8019976165174,
          1120.8019785106922,
          1086.915950160255,
          1096.5815006688592,
          1115.684114464692,
          1087.1866507376485,
          1069.2693998698828,
          1089.5737862927422,
          1098.4758101563023,
          1083.331203858306,
          1098.6962114390603,
          1091.3802801085817,
          1124.2932608750918,
          1112.2191114007992,
          1168.7246612022345,
          1170.0128820259508,
          1170.0128820259508,
          1170.0128820259508,
          1170.0128820259508,
          1167.6705225432584,
          1170.7829027892535,
          1167.7189701643981,
          1165.701166715868,
          1140.937327015688,
          1170.0121411838381,
          1142.654410659164,
          1151.4487363768617,
          1121.9824828127694,
          1085.9970059918558,
          1089.103543779525,
          1100.5232908329872,
          1135.9593924081591,
          1146.19624125781,
          1141.2250435517212,
          1153.978315756289,
          1193.7475160709546,
          1184.5356295753154,
          1171.1568424275974,
          1155.0439537416373,
          1189.4723165504417,
          1211.293013203729,
          1232.2942865526031,
          1236.4028430959834,
          1239.6872096594027,
          1239.6872096594027,
          1239.6872096594027,
          1239.6872096594027,
          1239.6872096594027,
          1239.6872096594027,
          1239.6872096594027,
          1239.6872096594027,
          1239.6872096594027,
          1239.6872096594027,
          1239.6872096594027,
          1238.6468387405366,
          1239.7772629520487,
          1255.2087340367289,
          1255.5211857963736,
          1266.8083405513341,
          1257.7927086806967,
          1256.0480582255852,
          1230.2199927626248,
          1225.0939062457703,
          1261.2661260525801,
          1273.730211993055,
          1268.03674465583,
          1321.276282084125,
          1337.8573941815914,
          1337.8573941815914,
          1337.8573941815914,
          1337.8573941815914,
          1337.8573941815914,
          1337.8573941815914,
          1337.8573941815914,
          1337.8573941815914,
          1337.8573941815914,
          1337.8573941815914,
          1337.8573941815914,
          1337.8573941815914,
          1337.8573941815914,
          1337.8573941815914,
          1337.8573941815914,
          1337.8573941815914,
          1337.8573941815914
         ],
         "yaxis": "y2"
        },
        {
         "name": "Portfolio",
         "type": "bar",
         "x": [
          "Crypto",
          "Cash"
         ],
         "xaxis": "x3",
         "y": [
          0,
          1337.8573941815914
         ],
         "yaxis": "y3"
        },
        {
         "customdata": [
          [
           250,
           0.003988621708709336
          ],
          [
           187.5,
           0.0031159677507724354
          ],
          [
           140.625,
           0.0024680707063865167
          ],
          [
           105.46875,
           0.0018613542055023284
          ],
          [
           79.1015625,
           0.0013567197424363042
          ],
          [
           59.326171875,
           0.001062258154855312
          ],
          [
           269.1560586274775,
           0.004091933830194735
          ],
          [
           271.3399604761204,
           0.004418133470397209
          ],
          [
           203.5049703570903,
           0.003353735266058159
          ],
          [
           152.6287277678177,
           0.0026262331042578952
          ],
          [
           114.47154582586327,
           0.0021201788601409237
          ],
          [
           85.85365936939746,
           0.001532162161967973
          ],
          [
           64.3902445270481,
           0.0011701474760062492
          ],
          [
           292.5032205064877,
           0.004915679074396018
          ],
          [
           219.3774153798658,
           0.0037165211268429957
          ],
          [
           164.53306153489933,
           0.002770468170613591
          ],
          [
           123.3997961511745,
           0.002087295140726061
          ],
          [
           92.54984711338088,
           0.0015694421995905421
          ],
          [
           69.41238533503565,
           0.001210846822524825
          ],
          [
           309.9218024148507,
           0.0050942972634359564
          ],
          [
           232.44135181113802,
           0.0038335918630842914
          ],
          [
           174.33101385835351,
           0.0028692022490949673
          ],
          [
           130.74826039376512,
           0.0021065502842234247
          ],
          [
           98.06119529532384,
           0.0015793408841396055
          ],
          [
           73.54589647149288,
           0.001181713419178506
          ]
         ],
         "hovertemplate": "Buy<br>Price: $%{y:,.2f}<br>Amount: $%{customdata[0]:.2f}<br>Crypto: %{customdata[1]:.8f}<extra></extra>",
         "marker": {
          "color": "green",
          "size": 15,
          "symbol": "triangle-up"
         },
         "mode": "markers+text",
         "showlegend": false,
         "text": [
          "Buy\n$250.0",
          "Buy\n$187.5",
          "Buy\n$140.6",
          "Buy\n$105.5",
          "Buy\n$79.1",
          "Buy\n$59.3",
          "Buy\n$269.2",
          "Buy\n$271.3",
          "Buy\n$203.5",
          "Buy\n$152.6",
          "Buy\n$114.5",
          "Buy\n$85.9",
          "Buy\n$64.4",
          "Buy\n$292.5",
          "Buy\n$219.4",
          "Buy\n$164.5",
          "Buy\n$123.4",
          "Buy\n$92.5",
          "Buy\n$69.4",
          "Buy\n$309.9",
          "Buy\n$232.4",
          "Buy\n$174.3",
          "Buy\n$130.7",
          "Buy\n$98.1",
          "Buy\n$73.5"
         ],
         "textposition": "top center",
         "type": "scatter",
         "x": [
          0,
          3,
          4,
          5,
          6,
          7,
          25,
          33,
          34,
          35,
          36,
          37,
          38,
          58,
          59,
          60,
          61,
          62,
          63,
          93,
          94,
          95,
          96,
          97,
          99
         ],
         "xaxis": "x",
         "y": [
          62678.29296875,
          60173.921875,
          56977.703125,
          56662.375,
          58303.5390625,
          55849.109375,
          65777.2265625,
          61415.06640625,
          60680.09375,
          58116.9765625,
          53991.45703125,
          56034.31640625,
          55027.4609375,
          59504.1328125,
          59027.625,
          59388.1796875,
          59119.4765625,
          58969.8984375,
          57325.48828125,
          60837.0078125,
          60632.78515625,
          60759.40234375,
          62067.4765625,
          62089.94921875,
          62236.66015625
         ],
         "yaxis": "y"
        },
        {
         "customdata": [
          [
           898.64571888491,
           0.013852992268662233
          ],
          [
           277.8916660220492,
           0.004091933830194735
          ],
          [
           976.8421484448065,
           0.01522059033882841
          ],
          [
           1031.4500536542957,
           0.016270252534694035
          ],
          [
           1117.2197047671127,
           0.016664695963156752
          ]
         ],
         "hovertemplate": "Sell<br>Price: $%{y:,.2f}<br>Amount: $%{customdata[0]:.2f}<br>Crypto: %{customdata[1]:.8f}<extra></extra>",
         "marker": {
          "color": "red",
          "size": 15,
          "symbol": "triangle-down"
         },
         "mode": "markers+text",
         "showlegend": false,
         "text": [
          "Sell\n$898.6",
          "Sell\n$277.9",
          "Sell\n$976.8",
          "Sell\n$1031.5",
          "Sell\n$1117.2"
         ],
         "textposition": "bottom center",
         "type": "scatter",
         "x": [
          15,
          26,
          55,
          83,
          107
         ],
         "xaxis": "x",
         "y": [
          64870.15234375,
          67912.0625,
          64178.9921875,
          63394.83984375,
          67041.109375
         ],
         "yaxis": "y"
        }
       ],
       "layout": {
        "height": 1400,
        "hovermode": "x unified",
        "shapes": [
         {
          "fillcolor": "green",
          "layer": "below",
          "opacity": 0.1,
          "type": "rect",
          "x0": -0.5,
          "x1": 0.5,
          "xref": "x",
          "y0": 53948.75390625,
          "y1": 72720.4921875,
          "yref": "y"
         },
         {
          "fillcolor": "red",
          "layer": "below",
          "opacity": 0.1,
          "type": "rect",
          "x0": 0.5,
          "x1": 2.5,
          "xref": "x",
          "y0": 53948.75390625,
          "y1": 72720.4921875,
          "yref": "y"
         },
         {
          "fillcolor": "green",
          "layer": "below",
          "opacity": 0.1,
          "type": "rect",
          "x0": 2.5,
          "x1": 14.5,
          "xref": "x",
          "y0": 53948.75390625,
          "y1": 72720.4921875,
          "yref": "y"
         },
         {
          "fillcolor": "red",
          "layer": "below",
          "opacity": 0.1,
          "type": "rect",
          "x0": 14.5,
          "x1": 24.5,
          "xref": "x",
          "y0": 53948.75390625,
          "y1": 72720.4921875,
          "yref": "y"
         },
         {
          "fillcolor": "green",
          "layer": "below",
          "opacity": 0.1,
          "type": "rect",
          "x0": 24.5,
          "x1": 25.5,
          "xref": "x",
          "y0": 53948.75390625,
          "y1": 72720.4921875,
          "yref": "y"
         },
         {
          "fillcolor": "red",
          "layer": "below",
          "opacity": 0.1,
          "type": "rect",
          "x0": 25.5,
          "x1": 29.5,
          "xref": "x",
          "y0": 53948.75390625,
          "y1": 72720.4921875,
          "yref": "y"
         },
         {
          "fillcolor": "gray",
          "layer": "below",
          "opacity": 0.1,
          "type": "rect",
          "x0": 29.5,
          "x1": 32.5,
          "xref": "x",
          "y0": 53948.75390625,
          "y1": 72720.4921875,
          "yref": "y"
         },
         {
          "fillcolor": "green",
          "layer": "below",
          "opacity": 0.1,
          "type": "rect",
          "x0": 32.5,
          "x1": 54.5,
          "xref": "x",
          "y0": 53948.75390625,
          "y1": 72720.4921875,
          "yref": "y"
         },
         {
          "fillcolor": "red",
          "layer": "below",
          "opacity": 0.1,
          "type": "rect",
          "x0": 54.5,
          "x1": 57.5,
          "xref": "x",
          "y0": 53948.75390625,
          "y1": 72720.4921875,
          "yref": "y"
         },
         {
          "fillcolor": "green",
          "layer": "below",
          "opacity": 0.1,
          "type": "rect",
          "x0": 57.5,
          "x1": 82.5,
          "xref": "x",
          "y0": 53948.75390625,
          "y1": 72720.4921875,
          "yref": "y"
         },
         {
          "fillcolor": "red",
          "layer": "below",
          "opacity": 0.1,
          "type": "rect",
          "x0": 82.5,
          "x1": 87.5,
          "xref": "x",
          "y0": 53948.75390625,
          "y1": 72720.4921875,
          "yref": "y"
         },
         {
          "fillcolor": "green",
          "layer": "below",
          "opacity": 0.1,
          "type": "rect",
          "x0": 87.5,
          "x1": 88.5,
          "xref": "x",
          "y0": 53948.75390625,
          "y1": 72720.4921875,
          "yref": "y"
         },
         {
          "fillcolor": "red",
          "layer": "below",
          "opacity": 0.1,
          "type": "rect",
          "x0": 88.5,
          "x1": 92.5,
          "xref": "x",
          "y0": 53948.75390625,
          "y1": 72720.4921875,
          "yref": "y"
         },
         {
          "fillcolor": "green",
          "layer": "below",
          "opacity": 0.1,
          "type": "rect",
          "x0": 92.5,
          "x1": 97.5,
          "xref": "x",
          "y0": 53948.75390625,
          "y1": 72720.4921875,
          "yref": "y"
         },
         {
          "fillcolor": "gray",
          "layer": "below",
          "opacity": 0.1,
          "type": "rect",
          "x0": 97.5,
          "x1": 98.5,
          "xref": "x",
          "y0": 53948.75390625,
          "y1": 72720.4921875,
          "yref": "y"
         },
         {
          "fillcolor": "green",
          "layer": "below",
          "opacity": 0.1,
          "type": "rect",
          "x0": 98.5,
          "x1": 106.5,
          "xref": "x",
          "y0": 53948.75390625,
          "y1": 72720.4921875,
          "yref": "y"
         },
         {
          "fillcolor": "red",
          "layer": "below",
          "opacity": 0.1,
          "type": "rect",
          "x0": 106.5,
          "x1": 115.5,
          "xref": "x",
          "y0": 53948.75390625,
          "y1": 72720.4921875,
          "yref": "y"
         },
         {
          "fillcolor": "gray",
          "layer": "below",
          "opacity": 0.1,
          "type": "rect",
          "x0": 115.5,
          "x1": 116.5,
          "xref": "x",
          "y0": 53948.75390625,
          "y1": 72720.4921875,
          "yref": "y"
         },
         {
          "fillcolor": "red",
          "layer": "below",
          "opacity": 0.1,
          "type": "rect",
          "x0": 116.5,
          "x1": 117.5,
          "xref": "x",
          "y0": 53948.75390625,
          "y1": 72720.4921875,
          "yref": "y"
         },
         {
          "fillcolor": "gray",
          "layer": "below",
          "opacity": 0.1,
          "type": "rect",
          "x0": 117.5,
          "x1": 119.5,
          "xref": "x",
          "y0": 53948.75390625,
          "y1": 72720.4921875,
          "yref": "y"
         },
         {
          "fillcolor": "red",
          "layer": "below",
          "opacity": 0.1,
          "type": "rect",
          "x0": 119.5,
          "x1": 123.5,
          "xref": "x",
          "y0": 53948.75390625,
          "y1": 72720.4921875,
          "yref": "y"
         }
        ],
        "showlegend": true,
        "template": {
         "data": {
          "bar": [
           {
            "error_x": {
             "color": "#2a3f5f"
            },
            "error_y": {
             "color": "#2a3f5f"
            },
            "marker": {
             "line": {
              "color": "#E5ECF6",
              "width": 0.5
             },
             "pattern": {
              "fillmode": "overlay",
              "size": 10,
              "solidity": 0.2
             }
            },
            "type": "bar"
           }
          ],
          "barpolar": [
           {
            "marker": {
             "line": {
              "color": "#E5ECF6",
              "width": 0.5
             },
             "pattern": {
              "fillmode": "overlay",
              "size": 10,
              "solidity": 0.2
             }
            },
            "type": "barpolar"
           }
          ],
          "carpet": [
           {
            "aaxis": {
             "endlinecolor": "#2a3f5f",
             "gridcolor": "white",
             "linecolor": "white",
             "minorgridcolor": "white",
             "startlinecolor": "#2a3f5f"
            },
            "baxis": {
             "endlinecolor": "#2a3f5f",
             "gridcolor": "white",
             "linecolor": "white",
             "minorgridcolor": "white",
             "startlinecolor": "#2a3f5f"
            },
            "type": "carpet"
           }
          ],
          "choropleth": [
           {
            "colorbar": {
             "outlinewidth": 0,
             "ticks": ""
            },
            "type": "choropleth"
           }
          ],
          "contour": [
           {
            "colorbar": {
             "outlinewidth": 0,
             "ticks": ""
            },
            "colorscale": [
             [
              0,
              "#0d0887"
             ],
             [
              0.1111111111111111,
              "#46039f"
             ],
             [
              0.2222222222222222,
              "#7201a8"
             ],
             [
              0.3333333333333333,
              "#9c179e"
             ],
             [
              0.4444444444444444,
              "#bd3786"
             ],
             [
              0.5555555555555556,
              "#d8576b"
             ],
             [
              0.6666666666666666,
              "#ed7953"
             ],
             [
              0.7777777777777778,
              "#fb9f3a"
             ],
             [
              0.8888888888888888,
              "#fdca26"
             ],
             [
              1,
              "#f0f921"
             ]
            ],
            "type": "contour"
           }
          ],
          "contourcarpet": [
           {
            "colorbar": {
             "outlinewidth": 0,
             "ticks": ""
            },
            "type": "contourcarpet"
           }
          ],
          "heatmap": [
           {
            "colorbar": {
             "outlinewidth": 0,
             "ticks": ""
            },
            "colorscale": [
             [
              0,
              "#0d0887"
             ],
             [
              0.1111111111111111,
              "#46039f"
             ],
             [
              0.2222222222222222,
              "#7201a8"
             ],
             [
              0.3333333333333333,
              "#9c179e"
             ],
             [
              0.4444444444444444,
              "#bd3786"
             ],
             [
              0.5555555555555556,
              "#d8576b"
             ],
             [
              0.6666666666666666,
              "#ed7953"
             ],
             [
              0.7777777777777778,
              "#fb9f3a"
             ],
             [
              0.8888888888888888,
              "#fdca26"
             ],
             [
              1,
              "#f0f921"
             ]
            ],
            "type": "heatmap"
           }
          ],
          "heatmapgl": [
           {
            "colorbar": {
             "outlinewidth": 0,
             "ticks": ""
            },
            "colorscale": [
             [
              0,
              "#0d0887"
             ],
             [
              0.1111111111111111,
              "#46039f"
             ],
             [
              0.2222222222222222,
              "#7201a8"
             ],
             [
              0.3333333333333333,
              "#9c179e"
             ],
             [
              0.4444444444444444,
              "#bd3786"
             ],
             [
              0.5555555555555556,
              "#d8576b"
             ],
             [
              0.6666666666666666,
              "#ed7953"
             ],
             [
              0.7777777777777778,
              "#fb9f3a"
             ],
             [
              0.8888888888888888,
              "#fdca26"
             ],
             [
              1,
              "#f0f921"
             ]
            ],
            "type": "heatmapgl"
           }
          ],
          "histogram": [
           {
            "marker": {
             "pattern": {
              "fillmode": "overlay",
              "size": 10,
              "solidity": 0.2
             }
            },
            "type": "histogram"
           }
          ],
          "histogram2d": [
           {
            "colorbar": {
             "outlinewidth": 0,
             "ticks": ""
            },
            "colorscale": [
             [
              0,
              "#0d0887"
             ],
             [
              0.1111111111111111,
              "#46039f"
             ],
             [
              0.2222222222222222,
              "#7201a8"
             ],
             [
              0.3333333333333333,
              "#9c179e"
             ],
             [
              0.4444444444444444,
              "#bd3786"
             ],
             [
              0.5555555555555556,
              "#d8576b"
             ],
             [
              0.6666666666666666,
              "#ed7953"
             ],
             [
              0.7777777777777778,
              "#fb9f3a"
             ],
             [
              0.8888888888888888,
              "#fdca26"
             ],
             [
              1,
              "#f0f921"
             ]
            ],
            "type": "histogram2d"
           }
          ],
          "histogram2dcontour": [
           {
            "colorbar": {
             "outlinewidth": 0,
             "ticks": ""
            },
            "colorscale": [
             [
              0,
              "#0d0887"
             ],
             [
              0.1111111111111111,
              "#46039f"
             ],
             [
              0.2222222222222222,
              "#7201a8"
             ],
             [
              0.3333333333333333,
              "#9c179e"
             ],
             [
              0.4444444444444444,
              "#bd3786"
             ],
             [
              0.5555555555555556,
              "#d8576b"
             ],
             [
              0.6666666666666666,
              "#ed7953"
             ],
             [
              0.7777777777777778,
              "#fb9f3a"
             ],
             [
              0.8888888888888888,
              "#fdca26"
             ],
             [
              1,
              "#f0f921"
             ]
            ],
            "type": "histogram2dcontour"
           }
          ],
          "mesh3d": [
           {
            "colorbar": {
             "outlinewidth": 0,
             "ticks": ""
            },
            "type": "mesh3d"
           }
          ],
          "parcoords": [
           {
            "line": {
             "colorbar": {
              "outlinewidth": 0,
              "ticks": ""
             }
            },
            "type": "parcoords"
           }
          ],
          "pie": [
           {
            "automargin": true,
            "type": "pie"
           }
          ],
          "scatter": [
           {
            "fillpattern": {
             "fillmode": "overlay",
             "size": 10,
             "solidity": 0.2
            },
            "type": "scatter"
           }
          ],
          "scatter3d": [
           {
            "line": {
             "colorbar": {
              "outlinewidth": 0,
              "ticks": ""
             }
            },
            "marker": {
             "colorbar": {
              "outlinewidth": 0,
              "ticks": ""
             }
            },
            "type": "scatter3d"
           }
          ],
          "scattercarpet": [
           {
            "marker": {
             "colorbar": {
              "outlinewidth": 0,
              "ticks": ""
             }
            },
            "type": "scattercarpet"
           }
          ],
          "scattergeo": [
           {
            "marker": {
             "colorbar": {
              "outlinewidth": 0,
              "ticks": ""
             }
            },
            "type": "scattergeo"
           }
          ],
          "scattergl": [
           {
            "marker": {
             "colorbar": {
              "outlinewidth": 0,
              "ticks": ""
             }
            },
            "type": "scattergl"
           }
          ],
          "scattermapbox": [
           {
            "marker": {
             "colorbar": {
              "outlinewidth": 0,
              "ticks": ""
             }
            },
            "type": "scattermapbox"
           }
          ],
          "scatterpolar": [
           {
            "marker": {
             "colorbar": {
              "outlinewidth": 0,
              "ticks": ""
             }
            },
            "type": "scatterpolar"
           }
          ],
          "scatterpolargl": [
           {
            "marker": {
             "colorbar": {
              "outlinewidth": 0,
              "ticks": ""
             }
            },
            "type": "scatterpolargl"
           }
          ],
          "scatterternary": [
           {
            "marker": {
             "colorbar": {
              "outlinewidth": 0,
              "ticks": ""
             }
            },
            "type": "scatterternary"
           }
          ],
          "surface": [
           {
            "colorbar": {
             "outlinewidth": 0,
             "ticks": ""
            },
            "colorscale": [
             [
              0,
              "#0d0887"
             ],
             [
              0.1111111111111111,
              "#46039f"
             ],
             [
              0.2222222222222222,
              "#7201a8"
             ],
             [
              0.3333333333333333,
              "#9c179e"
             ],
             [
              0.4444444444444444,
              "#bd3786"
             ],
             [
              0.5555555555555556,
              "#d8576b"
             ],
             [
              0.6666666666666666,
              "#ed7953"
             ],
             [
              0.7777777777777778,
              "#fb9f3a"
             ],
             [
              0.8888888888888888,
              "#fdca26"
             ],
             [
              1,
              "#f0f921"
             ]
            ],
            "type": "surface"
           }
          ],
          "table": [
           {
            "cells": {
             "fill": {
              "color": "#EBF0F8"
             },
             "line": {
              "color": "white"
             }
            },
            "header": {
             "fill": {
              "color": "#C8D4E3"
             },
             "line": {
              "color": "white"
             }
            },
            "type": "table"
           }
          ]
         },
         "layout": {
          "annotationdefaults": {
           "arrowcolor": "#2a3f5f",
           "arrowhead": 0,
           "arrowwidth": 1
          },
          "autotypenumbers": "strict",
          "coloraxis": {
           "colorbar": {
            "outlinewidth": 0,
            "ticks": ""
           }
          },
          "colorscale": {
           "diverging": [
            [
             0,
             "#8e0152"
            ],
            [
             0.1,
             "#c51b7d"
            ],
            [
             0.2,
             "#de77ae"
            ],
            [
             0.3,
             "#f1b6da"
            ],
            [
             0.4,
             "#fde0ef"
            ],
            [
             0.5,
             "#f7f7f7"
            ],
            [
             0.6,
             "#e6f5d0"
            ],
            [
             0.7,
             "#b8e186"
            ],
            [
             0.8,
             "#7fbc41"
            ],
            [
             0.9,
             "#4d9221"
            ],
            [
             1,
             "#276419"
            ]
           ],
           "sequential": [
            [
             0,
             "#0d0887"
            ],
            [
             0.1111111111111111,
             "#46039f"
            ],
            [
             0.2222222222222222,
             "#7201a8"
            ],
            [
             0.3333333333333333,
             "#9c179e"
            ],
            [
             0.4444444444444444,
             "#bd3786"
            ],
            [
             0.5555555555555556,
             "#d8576b"
            ],
            [
             0.6666666666666666,
             "#ed7953"
            ],
            [
             0.7777777777777778,
             "#fb9f3a"
            ],
            [
             0.8888888888888888,
             "#fdca26"
            ],
            [
             1,
             "#f0f921"
            ]
           ],
           "sequentialminus": [
            [
             0,
             "#0d0887"
            ],
            [
             0.1111111111111111,
             "#46039f"
            ],
            [
             0.2222222222222222,
             "#7201a8"
            ],
            [
             0.3333333333333333,
             "#9c179e"
            ],
            [
             0.4444444444444444,
             "#bd3786"
            ],
            [
             0.5555555555555556,
             "#d8576b"
            ],
            [
             0.6666666666666666,
             "#ed7953"
            ],
            [
             0.7777777777777778,
             "#fb9f3a"
            ],
            [
             0.8888888888888888,
             "#fdca26"
            ],
            [
             1,
             "#f0f921"
            ]
           ]
          },
          "colorway": [
           "#636efa",
           "#EF553B",
           "#00cc96",
           "#ab63fa",
           "#FFA15A",
           "#19d3f3",
           "#FF6692",
           "#B6E880",
           "#FF97FF",
           "#FECB52"
          ],
          "font": {
           "color": "#2a3f5f"
          },
          "geo": {
           "bgcolor": "white",
           "lakecolor": "white",
           "landcolor": "#E5ECF6",
           "showlakes": true,
           "showland": true,
           "subunitcolor": "white"
          },
          "hoverlabel": {
           "align": "left"
          },
          "hovermode": "closest",
          "mapbox": {
           "style": "light"
          },
          "paper_bgcolor": "white",
          "plot_bgcolor": "#E5ECF6",
          "polar": {
           "angularaxis": {
            "gridcolor": "white",
            "linecolor": "white",
            "ticks": ""
           },
           "bgcolor": "#E5ECF6",
           "radialaxis": {
            "gridcolor": "white",
            "linecolor": "white",
            "ticks": ""
           }
          },
          "scene": {
           "xaxis": {
            "backgroundcolor": "#E5ECF6",
            "gridcolor": "white",
            "gridwidth": 2,
            "linecolor": "white",
            "showbackground": true,
            "ticks": "",
            "zerolinecolor": "white"
           },
           "yaxis": {
            "backgroundcolor": "#E5ECF6",
            "gridcolor": "white",
            "gridwidth": 2,
            "linecolor": "white",
            "showbackground": true,
            "ticks": "",
            "zerolinecolor": "white"
           },
           "zaxis": {
            "backgroundcolor": "#E5ECF6",
            "gridcolor": "white",
            "gridwidth": 2,
            "linecolor": "white",
            "showbackground": true,
            "ticks": "",
            "zerolinecolor": "white"
           }
          },
          "shapedefaults": {
           "line": {
            "color": "#2a3f5f"
           }
          },
          "ternary": {
           "aaxis": {
            "gridcolor": "white",
            "linecolor": "white",
            "ticks": ""
           },
           "baxis": {
            "gridcolor": "white",
            "linecolor": "white",
            "ticks": ""
           },
           "bgcolor": "#E5ECF6",
           "caxis": {
            "gridcolor": "white",
            "linecolor": "white",
            "ticks": ""
           }
          },
          "title": {
           "x": 0.05
          },
          "xaxis": {
           "automargin": true,
           "gridcolor": "white",
           "linecolor": "white",
           "ticks": "",
           "title": {
            "standoff": 15
           },
           "zerolinecolor": "white",
           "zerolinewidth": 2
          },
          "yaxis": {
           "automargin": true,
           "gridcolor": "white",
           "linecolor": "white",
           "ticks": "",
           "title": {
            "standoff": 15
           },
           "zerolinecolor": "white",
           "zerolinewidth": 2
          }
         }
        },
        "title": {
         "text": "Trading Session Visualization - BuySellWithEma"
        },
        "xaxis": {
         "anchor": "y",
         "domain": [
          0,
          1
         ],
         "range": [
          94,
          124
         ],
         "rangeslider": {
          "visible": true
         }
        },
        "xaxis2": {
         "anchor": "y2",
         "domain": [
          0,
          1
         ],
         "range": [
          94,
          124
         ]
        },
        "xaxis3": {
         "anchor": "y3",
         "domain": [
          0,
          1
         ]
        },
        "yaxis": {
         "anchor": "x",
         "domain": [
          0.7000000000000001,
          1
         ],
         "title": {
          "text": "Price"
         }
        },
        "yaxis2": {
         "anchor": "x2",
         "domain": [
          0.3285714285714286,
          0.5000000000000001
         ],
         "title": {
          "text": "Portfolio Value"
         }
        },
        "yaxis3": {
         "anchor": "x3",
         "domain": [
          0,
          0.1285714285714286
         ],
         "title": {
          "text": "Amount ($)"
         }
        }
       }
      }
     },
     "metadata": {},
     "output_type": "display_data"
    },
    {
     "name": "stdout",
     "output_type": "stream",
     "text": [
      "BuySellWithEma Strategy - Final Portfolio Value: $1337.86\n",
      "BuySellWithEma Strategy - Total Transactions: 124\n"
     ]
    },
    {
     "name": "stderr",
     "output_type": "stream",
     "text": [
      "/tmp/ipykernel_63826/333491979.py:236: FutureWarning:\n",
      "\n",
      "'H' is deprecated and will be removed in a future version, please use 'h' instead.\n",
      "\n"
     ]
    },
    {
     "data": {
      "text/html": [
       "<h4>Performance Metrics</h4>"
      ],
      "text/plain": [
       "<IPython.core.display.HTML object>"
      ]
     },
     "metadata": {},
     "output_type": "display_data"
    },
    {
     "name": "stdout",
     "output_type": "stream",
     "text": [
      "                    Strategy\n",
      "------------------  -------------\n",
      "Start Period        2024-05-01\n",
      "End Period          2024-05-06\n",
      "Risk-Free Rate      0.0%\n",
      "Time in Market      63.0%\n",
      "\n",
      "Cumulative Return   33.79%\n",
      "CAGR﹪              234992990.77%\n",
      "\n",
      "Sharpe              2.29\n",
      "Prob. Sharpe Ratio  96.41%\n",
      "Sortino             4.47\n",
      "Sortino/√2          3.16\n",
      "Omega               1.68\n",
      "\n",
      "Max Drawdown        -7.24%\n",
      "Longest DD Days     1\n",
      "\n",
      "Gain/Pain Ratio     -\n",
      "Gain/Pain (1M)      -\n",
      "\n",
      "Payoff Ratio        1.4\n",
      "Profit Factor       1.68\n",
      "Common Sense Ratio  2.17\n",
      "CPC Index           1.29\n",
      "Tail Ratio          1.29\n",
      "Outlier Win Ratio   6.35\n",
      "Outlier Loss Ratio  2.48\n",
      "\n",
      "MTD                 33.79%\n",
      "3M                  33.79%\n",
      "6M                  33.79%\n",
      "YTD                 33.79%\n",
      "1Y                  33.79%\n",
      "3Y (ann.)           234992990.77%\n",
      "5Y (ann.)           234992990.77%\n",
      "10Y (ann.)          234992990.77%\n",
      "All-time (ann.)     234992990.77%\n",
      "\n",
      "Avg. Drawdown       -3.45%\n",
      "Avg. Drawdown Days  1\n",
      "Recovery Factor     4.27\n",
      "Ulcer Index         0.02\n",
      "Serenity Index      6.32\n"
     ]
    },
    {
     "data": {
      "text/html": [
       "<h4>Strategy Visualization</h4>"
      ],
      "text/plain": [
       "<IPython.core.display.HTML object>"
      ]
     },
     "metadata": {},
     "output_type": "display_data"
    },
    {
     "name": "stderr",
     "output_type": "stream",
     "text": [
      "findfont: Font family 'Arial' not found.\n",
      "findfont: Font family 'Arial' not found.\n",
      "findfont: Font family 'Arial' not found.\n",
      "findfont: Font family 'Arial' not found.\n",
      "findfont: Font family 'Arial' not found.\n",
      "findfont: Font family 'Arial' not found.\n",
      "findfont: Font family 'Arial' not found.\n",
      "findfont: Font family 'Arial' not found.\n",
      "findfont: Font family 'Arial' not found.\n",
      "findfont: Font family 'Arial' not found.\n",
      "findfont: Font family 'Arial' not found.\n",
      "findfont: Font family 'Arial' not found.\n",
      "findfont: Font family 'Arial' not found.\n",
      "findfont: Font family 'Arial' not found.\n",
      "findfont: Font family 'Arial' not found.\n",
      "findfont: Font family 'Arial' not found.\n"
     ]
    },
    {
     "data": {
      "image/png": "[encoded data removed]",
      "text/plain": [
       "<Figure size 800x800 with 3 Axes>"
      ]
     },
     "metadata": {},
     "output_type": "display_data"
    },
    {
     "name": "stderr",
     "output_type": "stream",
     "text": [
      "findfont: Font family 'Arial' not found.\n",
      "findfont: Font family 'Arial' not found.\n",
      "findfont: Font family 'Arial' not found.\n",
      "findfont: Font family 'Arial' not found.\n",
      "findfont: Font family 'Arial' not found.\n",
      "findfont: Font family 'Arial' not found.\n",
      "findfont: Font family 'Arial' not found.\n",
      "findfont: Font family 'Arial' not found.\n"
     ]
    },
    {
     "data": {
      "image/png": "[encoded data removed]",
      "text/plain": [
       "<Figure size 840.8x400 with 2 Axes>"
      ]
     },
     "metadata": {},
     "output_type": "display_data"
    }
   ],
   "source": [
    "print(\"Running BuySellWithEma Strategy...\")\n",
    "results_buy_sell_ema = run_trading_session(initial_balance, BuySellWithEma, risk_level)\n",
    "print(f\"BuySellWithEma Strategy - Final Portfolio Value: ${results_buy_sell_ema['portfolio_values'][-1]:.2f}\")\n",
    "generate_performance_report(results_buy_sell_ema)"
   ]
  },
  {
   "cell_type": "code",
   "execution_count": 10,
   "metadata": {},
   "outputs": [
    {
     "data": {
      "application/vnd.plotly.v1+json": {
       "config": {
        "plotlyServerURL": "https://plot.ly"
       },
       "data": [
        {
         "line": {
          "color": "blue",
          "width": 1
         },
         "name": "Price",
         "type": "scatter",
         "x": [
          0,
          1,
          2,
          3,
          4,
          5,
          6,
          7,
          8,
          9,
          10,
          11,
          12,
          13,
          14,
          15,
          16,
          17,
          18,
          19,
          20,
          21,
          22,
          23,
          24,
          25,
          26,
          27,
          28,
          29,
          30,
          31,
          32,
          33,
          34,
          35,
          36,
          37,
          38,
          39,
          40,
          41,
          42,
          43,
          44,
          45,
          46,
          47,
          48,
          49,
          50,
          51,
          52,
          53,
          54,
          55,
          56,
          57,
          58,
          59,
          60,
          61,
          62,
          63,
          64,
          65,
          66,
          67,
          68,
          69,
          70,
          71,
          72,
          73,
          74,
          75,
          76,
          77,
          78,
          79,
          80,
          81,
          82,
          83,
          84,
          85,
          86,
          87,
          88,
          89,
          90,
          91,
          92,
          93,
          94,
          95,
          96,
          97,
          98,
          99,
          100,
          101,
          102,
          103,
          104,
          105,
          106,
          107,
          108,
          109,
          110,
          111,
          112,
          113,
          114,
          115,
          116,
          117,
          118,
          119,
          120,
          121,
          122,
          123
         ],
         "xaxis": "x",
         "y": [
          62678.29296875,
          62851.98046875,
          62029.015625,
          60173.921875,
          56977.703125,
          56662.375,
          58303.5390625,
          55849.109375,
          56705.09765625,
          58009.2265625,
          57742.49609375,
          57344.9140625,
          57899.46484375,
          59231.953125,
          60787.79296875,
          64870.15234375,
          65097.1484375,
          64118.79296875,
          63974.06640625,
          66710.15625,
          67163.6484375,
          68154.5234375,
          67585.25,
          65927.671875,
          65372.1328125,
          65777.2265625,
          67912.0625,
          67813.3359375,
          68255.8671875,
          66819.9140625,
          66201.015625,
          64619.25,
          65357.5,
          61415.06640625,
          60680.09375,
          58116.9765625,
          53991.45703125,
          56034.31640625,
          55027.4609375,
          61710.13671875,
          60880.11328125,
          60945.8125,
          58719.484375,
          59354.515625,
          60609.56640625,
          58737.26953125,
          57560.09765625,
          58894.10546875,
          59478.97265625,
          58483.96484375,
          59493.453125,
          59012.79296875,
          61175.19140625,
          60381.9140625,
          64094.35546875,
          64178.9921875,
          64333.54296875,
          62880.66015625,
          59504.1328125,
          59027.625,
          59388.1796875,
          59119.4765625,
          58969.8984375,
          57325.48828125,
          59112.48046875,
          57431.0234375,
          57971.5390625,
          56160.48828125,
          53948.75390625,
          54139.6875,
          54841.56640625,
          57019.53515625,
          57648.7109375,
          57343.171875,
          58127.01171875,
          60571.30078125,
          60005.12109375,
          59182.8359375,
          58192.5078125,
          60308.5390625,
          61649.6796875,
          62940.45703125,
          63192.9765625,
          63394.83984375,
          63648.7109375,
          63329.80078125,
          64301.96875,
          63143.14453125,
          65181.01953125,
          65790.6640625,
          65887.6484375,
          65635.3046875,
          63329.5,
          60837.0078125,
          60632.78515625,
          60759.40234375,
          62067.4765625,
          62089.94921875,
          62818.953125,
          62236.66015625,
          62131.96875,
          60582.1015625,
          60274.5,
          62445.08984375,
          63193.0234375,
          62851.375,
          66046.125,
          67041.109375,
          67612.71875,
          67399.8359375,
          68418.7890625,
          68362.734375,
          69001.703125,
          67367.8515625,
          67361.40625,
          66432.1953125,
          68161.0546875,
          66642.4140625,
          67014.6953125,
          67929.296875,
          69907.7578125,
          72720.4921875,
          72339.5390625,
          70215.1875
         ],
         "yaxis": "y"
        },
        {
         "line": {
          "color": "green",
          "width": 1
         },
         "name": "Portfolio Value",
         "type": "scatter",
         "x": [
          0,
          1,
          2,
          3,
          4,
          5,
          6,
          7,
          8,
          9,
          10,
          11,
          12,
          13,
          14,
          15,
          16,
          17,
          18,
          19,
          20,
          21,
          22,
          23,
          24,
          25,
          26,
          27,
          28,
          29,
          30,
          31,
          32,
          33,
          34,
          35,
          36,
          37,
          38,
          39,
          40,
          41,
          42,
          43,
          44,
          45,
          46,
          47,
          48,
          49,
          50,
          51,
          52,
          53,
          54,
          55,
          56,
          57,
          58,
          59,
          60,
          61,
          62,
          63,
          64,
          65,
          66,
          67,
          68,
          69,
          70,
          71,
          72,
          73,
          74,
          75,
          76,
          77,
          78,
          79,
          80,
          81,
          82,
          83,
          84,
          85,
          86,
          87,
          88,
          89,
          90,
          91,
          92,
          93,
          94,
          95,
          96,
          97,
          98,
          99,
          100,
          101,
          102,
          103,
          104,
          105,
          106,
          107,
          108,
          109,
          110,
          111,
          112,
          113,
          114,
          115,
          116,
          117,
          118,
          119,
          120,
          121,
          122,
          123
         ],
         "xaxis": "x2",
         "y": [
          1000,
          1000.1731934332579,
          999.3525695729364,
          997.5027527722011,
          994.3156258991927,
          994.0011947480073,
          995.6376903998175,
          993.1902425163017,
          994.0437958765503,
          997.0690982520159,
          996.4503401546751,
          995.5280341941075,
          996.8144743518185,
          999.9055644604929,
          1003.5147828073781,
          1012.984990434479,
          1013.5115732119576,
          1011.2419960946387,
          1010.9062611751642,
          1017.253409117453,
          1018.3054147784915,
          1020.6040345521374,
          1019.2834409555194,
          1015.4382113811655,
          1014.1494786206304,
          1015.0892101749944,
          1022.4757427221998,
          1022.1341488065409,
          1023.6653069737154,
          1018.6969090243653,
          1016.5555203716326,
          1011.082611158386,
          1013.6369562287433,
          999.9961356186438,
          996.5555824967191,
          984.5571213753128,
          965.2447442656315,
          974.8077751356111,
          970.094484516053,
          1001.3774184136244,
          997.4919136878675,
          997.7994647923285,
          985.0944782056438,
          988.7184110045773,
          995.8806092278915,
          985.195972755823,
          978.4782060824591,
          986.0909883916012,
          989.4286499378657,
          983.7504389098038,
          990.8058562218423,
          987.4464730069978,
          1002.5596978505502,
          997.0154009941159,
          1022.9620353969949,
          1023.553570119878,
          1024.6337414085135,
          1014.4793941634097,
          990.8804976550061,
          986.9495372144338,
          989.9239401015333,
          987.7072684606394,
          986.473320817546,
          972.9077273420054,
          987.6495540495671,
          973.7783416602299,
          978.2373357913833,
          960.9540115014858,
          939.8468604254375,
          941.6689889117183,
          948.3672001792039,
          969.1521171949112,
          975.1565038058641,
          972.2406657989508,
          979.7210514132755,
          1005.6757086458538,
          999.663735697744,
          990.9323095725224,
          980.416520983317,
          1002.8855761494035,
          1017.1264635127658,
          1030.83256891355,
          1033.5139448517223,
          1035.8570775826825,
          1038.8038922065548,
          1035.102135152385,
          1046.3865974551063,
          1032.9355183902624,
          1056.590199838703,
          1063.666662911022,
          1064.7924112989758,
          1061.8633253531966,
          1035.0986438270315,
          1006.1669828036424,
          1003.5446974227664,
          1005.1705033242548,
          1021.9666020721327,
          1022.255158293249,
          1031.6158057408109,
          1024.138974485268,
          1022.7947027518876,
          1002.8939035814691,
          998.5633919184207,
          1029.121639274702,
          1039.6512839377392,
          1034.8414496468097,
          1079.81814619894,
          1093.8258495586665,
          1101.873146344245,
          1098.876115071383,
          1113.221258041559,
          1112.432102498868,
          1121.4277057776985,
          1098.4258289679995,
          1098.3350898289445,
          1085.2533656349206,
          1109.5927923477088,
          1088.2128913969732,
          1093.4539840687935,
          1106.3300328809592,
          1134.1834289921358,
          1173.7819892757636,
          1168.4188112168513,
          1138.511520944809
         ],
         "yaxis": "y2"
        },
        {
         "name": "Portfolio",
         "type": "bar",
         "x": [
          "Crypto",
          "Cash"
         ],
         "xaxis": "x3",
         "y": [
          988.5115209448091,
          150
         ],
         "yaxis": "y3"
        },
        {
         "customdata": [
          [
           62.5,
           0.000997155427177334
          ],
          [
           75,
           0.0013226324104872351
          ],
          [
           75,
           0.001140212257638086
          ],
          [
           75,
           0.0012211987121187498
          ],
          [
           62.5,
           0.0010255011367680102
          ],
          [
           75,
           0.0012824027953709267
          ],
          [
           75,
           0.0012604166543579102
          ],
          [
           75,
           0.0012937382931845463
          ],
          [
           62.5,
           0.0010752316032072815
          ],
          [
           62.5,
           0.0009890339623136026
          ],
          [
           75,
           0.001232802248117633
          ],
          [
           75,
           0.0012379894071952201
          ]
         ],
         "hovertemplate": "Buy<br>Price: $%{y:,.2f}<br>Amount: $%{customdata[0]:.2f}<br>Crypto: %{customdata[1]:.8f}<extra></extra>",
         "marker": {
          "color": "green",
          "size": 15,
          "symbol": "triangle-up"
         },
         "mode": "markers+text",
         "showlegend": false,
         "text": [
          "Buy\n$62.5",
          "Buy\n$75.0",
          "Buy\n$75.0",
          "Buy\n$75.0",
          "Buy\n$62.5",
          "Buy\n$75.0",
          "Buy\n$75.0",
          "Buy\n$75.0",
          "Buy\n$62.5",
          "Buy\n$62.5",
          "Buy\n$75.0",
          "Buy\n$75.0"
         ],
         "textposition": "top center",
         "type": "scatter",
         "x": [
          0,
          8,
          25,
          33,
          41,
          49,
          58,
          66,
          74,
          82,
          93,
          101
         ],
         "xaxis": "x",
         "y": [
          62678.29296875,
          56705.09765625,
          65777.2265625,
          61415.06640625,
          60945.8125,
          58483.96484375,
          59504.1328125,
          57971.5390625,
          58127.01171875,
          63192.9765625,
          60837.0078125,
          60582.1015625
         ],
         "yaxis": "y"
        }
       ],
       "layout": {
        "height": 1400,
        "hovermode": "x unified",
        "shapes": [
         {
          "fillcolor": "green",
          "layer": "below",
          "opacity": 0.1,
          "type": "rect",
          "x0": -0.5,
          "x1": 0.5,
          "xref": "x",
          "y0": 53948.75390625,
          "y1": 72720.4921875,
          "yref": "y"
         },
         {
          "fillcolor": "red",
          "layer": "below",
          "opacity": 0.1,
          "type": "rect",
          "x0": 0.5,
          "x1": 2.5,
          "xref": "x",
          "y0": 53948.75390625,
          "y1": 72720.4921875,
          "yref": "y"
         },
         {
          "fillcolor": "green",
          "layer": "below",
          "opacity": 0.1,
          "type": "rect",
          "x0": 2.5,
          "x1": 14.5,
          "xref": "x",
          "y0": 53948.75390625,
          "y1": 72720.4921875,
          "yref": "y"
         },
         {
          "fillcolor": "red",
          "layer": "below",
          "opacity": 0.1,
          "type": "rect",
          "x0": 14.5,
          "x1": 24.5,
          "xref": "x",
          "y0": 53948.75390625,
          "y1": 72720.4921875,
          "yref": "y"
         },
         {
          "fillcolor": "green",
          "layer": "below",
          "opacity": 0.1,
          "type": "rect",
          "x0": 24.5,
          "x1": 25.5,
          "xref": "x",
          "y0": 53948.75390625,
          "y1": 72720.4921875,
          "yref": "y"
         },
         {
          "fillcolor": "red",
          "layer": "below",
          "opacity": 0.1,
          "type": "rect",
          "x0": 25.5,
          "x1": 29.5,
          "xref": "x",
          "y0": 53948.75390625,
          "y1": 72720.4921875,
          "yref": "y"
         },
         {
          "fillcolor": "gray",
          "layer": "below",
          "opacity": 0.1,
          "type": "rect",
          "x0": 29.5,
          "x1": 32.5,
          "xref": "x",
          "y0": 53948.75390625,
          "y1": 72720.4921875,
          "yref": "y"
         },
         {
          "fillcolor": "green",
          "layer": "below",
          "opacity": 0.1,
          "type": "rect",
          "x0": 32.5,
          "x1": 54.5,
          "xref": "x",
          "y0": 53948.75390625,
          "y1": 72720.4921875,
          "yref": "y"
         },
         {
          "fillcolor": "red",
          "layer": "below",
          "opacity": 0.1,
          "type": "rect",
          "x0": 54.5,
          "x1": 57.5,
          "xref": "x",
          "y0": 53948.75390625,
          "y1": 72720.4921875,
          "yref": "y"
         },
         {
          "fillcolor": "green",
          "layer": "below",
          "opacity": 0.1,
          "type": "rect",
          "x0": 57.5,
          "x1": 82.5,
          "xref": "x",
          "y0": 53948.75390625,
          "y1": 72720.4921875,
          "yref": "y"
         },
         {
          "fillcolor": "red",
          "layer": "below",
          "opacity": 0.1,
          "type": "rect",
          "x0": 82.5,
          "x1": 87.5,
          "xref": "x",
          "y0": 53948.75390625,
          "y1": 72720.4921875,
          "yref": "y"
         },
         {
          "fillcolor": "green",
          "layer": "below",
          "opacity": 0.1,
          "type": "rect",
          "x0": 87.5,
          "x1": 88.5,
          "xref": "x",
          "y0": 53948.75390625,
          "y1": 72720.4921875,
          "yref": "y"
         },
         {
          "fillcolor": "red",
          "layer": "below",
          "opacity": 0.1,
          "type": "rect",
          "x0": 88.5,
          "x1": 92.5,
          "xref": "x",
          "y0": 53948.75390625,
          "y1": 72720.4921875,
          "yref": "y"
         },
         {
          "fillcolor": "green",
          "layer": "below",
          "opacity": 0.1,
          "type": "rect",
          "x0": 92.5,
          "x1": 97.5,
          "xref": "x",
          "y0": 53948.75390625,
          "y1": 72720.4921875,
          "yref": "y"
         },
         {
          "fillcolor": "gray",
          "layer": "below",
          "opacity": 0.1,
          "type": "rect",
          "x0": 97.5,
          "x1": 98.5,
          "xref": "x",
          "y0": 53948.75390625,
          "y1": 72720.4921875,
          "yref": "y"
         },
         {
          "fillcolor": "green",
          "layer": "below",
          "opacity": 0.1,
          "type": "rect",
          "x0": 98.5,
          "x1": 106.5,
          "xref": "x",
          "y0": 53948.75390625,
          "y1": 72720.4921875,
          "yref": "y"
         },
         {
          "fillcolor": "red",
          "layer": "below",
          "opacity": 0.1,
          "type": "rect",
          "x0": 106.5,
          "x1": 115.5,
          "xref": "x",
          "y0": 53948.75390625,
          "y1": 72720.4921875,
          "yref": "y"
         },
         {
          "fillcolor": "gray",
          "layer": "below",
          "opacity": 0.1,
          "type": "rect",
          "x0": 115.5,
          "x1": 116.5,
          "xref": "x",
          "y0": 53948.75390625,
          "y1": 72720.4921875,
          "yref": "y"
         },
         {
          "fillcolor": "red",
          "layer": "below",
          "opacity": 0.1,
          "type": "rect",
          "x0": 116.5,
          "x1": 117.5,
          "xref": "x",
          "y0": 53948.75390625,
          "y1": 72720.4921875,
          "yref": "y"
         },
         {
          "fillcolor": "gray",
          "layer": "below",
          "opacity": 0.1,
          "type": "rect",
          "x0": 117.5,
          "x1": 119.5,
          "xref": "x",
          "y0": 53948.75390625,
          "y1": 72720.4921875,
          "yref": "y"
         },
         {
          "fillcolor": "red",
          "layer": "below",
          "opacity": 0.1,
          "type": "rect",
          "x0": 119.5,
          "x1": 123.5,
          "xref": "x",
          "y0": 53948.75390625,
          "y1": 72720.4921875,
          "yref": "y"
         }
        ],
        "showlegend": true,
        "template": {
         "data": {
          "bar": [
           {
            "error_x": {
             "color": "#2a3f5f"
            },
            "error_y": {
             "color": "#2a3f5f"
            },
            "marker": {
             "line": {
              "color": "#E5ECF6",
              "width": 0.5
             },
             "pattern": {
              "fillmode": "overlay",
              "size": 10,
              "solidity": 0.2
             }
            },
            "type": "bar"
           }
          ],
          "barpolar": [
           {
            "marker": {
             "line": {
              "color": "#E5ECF6",
              "width": 0.5
             },
             "pattern": {
              "fillmode": "overlay",
              "size": 10,
              "solidity": 0.2
             }
            },
            "type": "barpolar"
           }
          ],
          "carpet": [
           {
            "aaxis": {
             "endlinecolor": "#2a3f5f",
             "gridcolor": "white",
             "linecolor": "white",
             "minorgridcolor": "white",
             "startlinecolor": "#2a3f5f"
            },
            "baxis": {
             "endlinecolor": "#2a3f5f",
             "gridcolor": "white",
             "linecolor": "white",
             "minorgridcolor": "white",
             "startlinecolor": "#2a3f5f"
            },
            "type": "carpet"
           }
          ],
          "choropleth": [
           {
            "colorbar": {
             "outlinewidth": 0,
             "ticks": ""
            },
            "type": "choropleth"
           }
          ],
          "contour": [
           {
            "colorbar": {
             "outlinewidth": 0,
             "ticks": ""
            },
            "colorscale": [
             [
              0,
              "#0d0887"
             ],
             [
              0.1111111111111111,
              "#46039f"
             ],
             [
              0.2222222222222222,
              "#7201a8"
             ],
             [
              0.3333333333333333,
              "#9c179e"
             ],
             [
              0.4444444444444444,
              "#bd3786"
             ],
             [
              0.5555555555555556,
              "#d8576b"
             ],
             [
              0.6666666666666666,
              "#ed7953"
             ],
             [
              0.7777777777777778,
              "#fb9f3a"
             ],
             [
              0.8888888888888888,
              "#fdca26"
             ],
             [
              1,
              "#f0f921"
             ]
            ],
            "type": "contour"
           }
          ],
          "contourcarpet": [
           {
            "colorbar": {
             "outlinewidth": 0,
             "ticks": ""
            },
            "type": "contourcarpet"
           }
          ],
          "heatmap": [
           {
            "colorbar": {
             "outlinewidth": 0,
             "ticks": ""
            },
            "colorscale": [
             [
              0,
              "#0d0887"
             ],
             [
              0.1111111111111111,
              "#46039f"
             ],
             [
              0.2222222222222222,
              "#7201a8"
             ],
             [
              0.3333333333333333,
              "#9c179e"
             ],
             [
              0.4444444444444444,
              "#bd3786"
             ],
             [
              0.5555555555555556,
              "#d8576b"
             ],
             [
              0.6666666666666666,
              "#ed7953"
             ],
             [
              0.7777777777777778,
              "#fb9f3a"
             ],
             [
              0.8888888888888888,
              "#fdca26"
             ],
             [
              1,
              "#f0f921"
             ]
            ],
            "type": "heatmap"
           }
          ],
          "heatmapgl": [
           {
            "colorbar": {
             "outlinewidth": 0,
             "ticks": ""
            },
            "colorscale": [
             [
              0,
              "#0d0887"
             ],
             [
              0.1111111111111111,
              "#46039f"
             ],
             [
              0.2222222222222222,
              "#7201a8"
             ],
             [
              0.3333333333333333,
              "#9c179e"
             ],
             [
              0.4444444444444444,
              "#bd3786"
             ],
             [
              0.5555555555555556,
              "#d8576b"
             ],
             [
              0.6666666666666666,
              "#ed7953"
             ],
             [
              0.7777777777777778,
              "#fb9f3a"
             ],
             [
              0.8888888888888888,
              "#fdca26"
             ],
             [
              1,
              "#f0f921"
             ]
            ],
            "type": "heatmapgl"
           }
          ],
          "histogram": [
           {
            "marker": {
             "pattern": {
              "fillmode": "overlay",
              "size": 10,
              "solidity": 0.2
             }
            },
            "type": "histogram"
           }
          ],
          "histogram2d": [
           {
            "colorbar": {
             "outlinewidth": 0,
             "ticks": ""
            },
            "colorscale": [
             [
              0,
              "#0d0887"
             ],
             [
              0.1111111111111111,
              "#46039f"
             ],
             [
              0.2222222222222222,
              "#7201a8"
             ],
             [
              0.3333333333333333,
              "#9c179e"
             ],
             [
              0.4444444444444444,
              "#bd3786"
             ],
             [
              0.5555555555555556,
              "#d8576b"
             ],
             [
              0.6666666666666666,
              "#ed7953"
             ],
             [
              0.7777777777777778,
              "#fb9f3a"
             ],
             [
              0.8888888888888888,
              "#fdca26"
             ],
             [
              1,
              "#f0f921"
             ]
            ],
            "type": "histogram2d"
           }
          ],
          "histogram2dcontour": [
           {
            "colorbar": {
             "outlinewidth": 0,
             "ticks": ""
            },
            "colorscale": [
             [
              0,
              "#0d0887"
             ],
             [
              0.1111111111111111,
              "#46039f"
             ],
             [
              0.2222222222222222,
              "#7201a8"
             ],
             [
              0.3333333333333333,
              "#9c179e"
             ],
             [
              0.4444444444444444,
              "#bd3786"
             ],
             [
              0.5555555555555556,
              "#d8576b"
             ],
             [
              0.6666666666666666,
              "#ed7953"
             ],
             [
              0.7777777777777778,
              "#fb9f3a"
             ],
             [
              0.8888888888888888,
              "#fdca26"
             ],
             [
              1,
              "#f0f921"
             ]
            ],
            "type": "histogram2dcontour"
           }
          ],
          "mesh3d": [
           {
            "colorbar": {
             "outlinewidth": 0,
             "ticks": ""
            },
            "type": "mesh3d"
           }
          ],
          "parcoords": [
           {
            "line": {
             "colorbar": {
              "outlinewidth": 0,
              "ticks": ""
             }
            },
            "type": "parcoords"
           }
          ],
          "pie": [
           {
            "automargin": true,
            "type": "pie"
           }
          ],
          "scatter": [
           {
            "fillpattern": {
             "fillmode": "overlay",
             "size": 10,
             "solidity": 0.2
            },
            "type": "scatter"
           }
          ],
          "scatter3d": [
           {
            "line": {
             "colorbar": {
              "outlinewidth": 0,
              "ticks": ""
             }
            },
            "marker": {
             "colorbar": {
              "outlinewidth": 0,
              "ticks": ""
             }
            },
            "type": "scatter3d"
           }
          ],
          "scattercarpet": [
           {
            "marker": {
             "colorbar": {
              "outlinewidth": 0,
              "ticks": ""
             }
            },
            "type": "scattercarpet"
           }
          ],
          "scattergeo": [
           {
            "marker": {
             "colorbar": {
              "outlinewidth": 0,
              "ticks": ""
             }
            },
            "type": "scattergeo"
           }
          ],
          "scattergl": [
           {
            "marker": {
             "colorbar": {
              "outlinewidth": 0,
              "ticks": ""
             }
            },
            "type": "scattergl"
           }
          ],
          "scattermapbox": [
           {
            "marker": {
             "colorbar": {
              "outlinewidth": 0,
              "ticks": ""
             }
            },
            "type": "scattermapbox"
           }
          ],
          "scatterpolar": [
           {
            "marker": {
             "colorbar": {
              "outlinewidth": 0,
              "ticks": ""
             }
            },
            "type": "scatterpolar"
           }
          ],
          "scatterpolargl": [
           {
            "marker": {
             "colorbar": {
              "outlinewidth": 0,
              "ticks": ""
             }
            },
            "type": "scatterpolargl"
           }
          ],
          "scatterternary": [
           {
            "marker": {
             "colorbar": {
              "outlinewidth": 0,
              "ticks": ""
             }
            },
            "type": "scatterternary"
           }
          ],
          "surface": [
           {
            "colorbar": {
             "outlinewidth": 0,
             "ticks": ""
            },
            "colorscale": [
             [
              0,
              "#0d0887"
             ],
             [
              0.1111111111111111,
              "#46039f"
             ],
             [
              0.2222222222222222,
              "#7201a8"
             ],
             [
              0.3333333333333333,
              "#9c179e"
             ],
             [
              0.4444444444444444,
              "#bd3786"
             ],
             [
              0.5555555555555556,
              "#d8576b"
             ],
             [
              0.6666666666666666,
              "#ed7953"
             ],
             [
              0.7777777777777778,
              "#fb9f3a"
             ],
             [
              0.8888888888888888,
              "#fdca26"
             ],
             [
              1,
              "#f0f921"
             ]
            ],
            "type": "surface"
           }
          ],
          "table": [
           {
            "cells": {
             "fill": {
              "color": "#EBF0F8"
             },
             "line": {
              "color": "white"
             }
            },
            "header": {
             "fill": {
              "color": "#C8D4E3"
             },
             "line": {
              "color": "white"
             }
            },
            "type": "table"
           }
          ]
         },
         "layout": {
          "annotationdefaults": {
           "arrowcolor": "#2a3f5f",
           "arrowhead": 0,
           "arrowwidth": 1
          },
          "autotypenumbers": "strict",
          "coloraxis": {
           "colorbar": {
            "outlinewidth": 0,
            "ticks": ""
           }
          },
          "colorscale": {
           "diverging": [
            [
             0,
             "#8e0152"
            ],
            [
             0.1,
             "#c51b7d"
            ],
            [
             0.2,
             "#de77ae"
            ],
            [
             0.3,
             "#f1b6da"
            ],
            [
             0.4,
             "#fde0ef"
            ],
            [
             0.5,
             "#f7f7f7"
            ],
            [
             0.6,
             "#e6f5d0"
            ],
            [
             0.7,
             "#b8e186"
            ],
            [
             0.8,
             "#7fbc41"
            ],
            [
             0.9,
             "#4d9221"
            ],
            [
             1,
             "#276419"
            ]
           ],
           "sequential": [
            [
             0,
             "#0d0887"
            ],
            [
             0.1111111111111111,
             "#46039f"
            ],
            [
             0.2222222222222222,
             "#7201a8"
            ],
            [
             0.3333333333333333,
             "#9c179e"
            ],
            [
             0.4444444444444444,
             "#bd3786"
            ],
            [
             0.5555555555555556,
             "#d8576b"
            ],
            [
             0.6666666666666666,
             "#ed7953"
            ],
            [
             0.7777777777777778,
             "#fb9f3a"
            ],
            [
             0.8888888888888888,
             "#fdca26"
            ],
            [
             1,
             "#f0f921"
            ]
           ],
           "sequentialminus": [
            [
             0,
             "#0d0887"
            ],
            [
             0.1111111111111111,
             "#46039f"
            ],
            [
             0.2222222222222222,
             "#7201a8"
            ],
            [
             0.3333333333333333,
             "#9c179e"
            ],
            [
             0.4444444444444444,
             "#bd3786"
            ],
            [
             0.5555555555555556,
             "#d8576b"
            ],
            [
             0.6666666666666666,
             "#ed7953"
            ],
            [
             0.7777777777777778,
             "#fb9f3a"
            ],
            [
             0.8888888888888888,
             "#fdca26"
            ],
            [
             1,
             "#f0f921"
            ]
           ]
          },
          "colorway": [
           "#636efa",
           "#EF553B",
           "#00cc96",
           "#ab63fa",
           "#FFA15A",
           "#19d3f3",
           "#FF6692",
           "#B6E880",
           "#FF97FF",
           "#FECB52"
          ],
          "font": {
           "color": "#2a3f5f"
          },
          "geo": {
           "bgcolor": "white",
           "lakecolor": "white",
           "landcolor": "#E5ECF6",
           "showlakes": true,
           "showland": true,
           "subunitcolor": "white"
          },
          "hoverlabel": {
           "align": "left"
          },
          "hovermode": "closest",
          "mapbox": {
           "style": "light"
          },
          "paper_bgcolor": "white",
          "plot_bgcolor": "#E5ECF6",
          "polar": {
           "angularaxis": {
            "gridcolor": "white",
            "linecolor": "white",
            "ticks": ""
           },
           "bgcolor": "#E5ECF6",
           "radialaxis": {
            "gridcolor": "white",
            "linecolor": "white",
            "ticks": ""
           }
          },
          "scene": {
           "xaxis": {
            "backgroundcolor": "#E5ECF6",
            "gridcolor": "white",
            "gridwidth": 2,
            "linecolor": "white",
            "showbackground": true,
            "ticks": "",
            "zerolinecolor": "white"
           },
           "yaxis": {
            "backgroundcolor": "#E5ECF6",
            "gridcolor": "white",
            "gridwidth": 2,
            "linecolor": "white",
            "showbackground": true,
            "ticks": "",
            "zerolinecolor": "white"
           },
           "zaxis": {
            "backgroundcolor": "#E5ECF6",
            "gridcolor": "white",
            "gridwidth": 2,
            "linecolor": "white",
            "showbackground": true,
            "ticks": "",
            "zerolinecolor": "white"
           }
          },
          "shapedefaults": {
           "line": {
            "color": "#2a3f5f"
           }
          },
          "ternary": {
           "aaxis": {
            "gridcolor": "white",
            "linecolor": "white",
            "ticks": ""
           },
           "baxis": {
            "gridcolor": "white",
            "linecolor": "white",
            "ticks": ""
           },
           "bgcolor": "#E5ECF6",
           "caxis": {
            "gridcolor": "white",
            "linecolor": "white",
            "ticks": ""
           }
          },
          "title": {
           "x": 0.05
          },
          "xaxis": {
           "automargin": true,
           "gridcolor": "white",
           "linecolor": "white",
           "ticks": "",
           "title": {
            "standoff": 15
           },
           "zerolinecolor": "white",
           "zerolinewidth": 2
          },
          "yaxis": {
           "automargin": true,
           "gridcolor": "white",
           "linecolor": "white",
           "ticks": "",
           "title": {
            "standoff": 15
           },
           "zerolinecolor": "white",
           "zerolinewidth": 2
          }
         }
        },
        "title": {
         "text": "Trading Session Visualization - DCA"
        },
        "xaxis": {
         "anchor": "y",
         "domain": [
          0,
          1
         ],
         "range": [
          94,
          124
         ],
         "rangeslider": {
          "visible": true
         }
        },
        "xaxis2": {
         "anchor": "y2",
         "domain": [
          0,
          1
         ],
         "range": [
          94,
          124
         ]
        },
        "xaxis3": {
         "anchor": "y3",
         "domain": [
          0,
          1
         ]
        },
        "yaxis": {
         "anchor": "x",
         "domain": [
          0.7000000000000001,
          1
         ],
         "title": {
          "text": "Price"
         }
        },
        "yaxis2": {
         "anchor": "x2",
         "domain": [
          0.3285714285714286,
          0.5000000000000001
         ],
         "title": {
          "text": "Portfolio Value"
         }
        },
        "yaxis3": {
         "anchor": "x3",
         "domain": [
          0,
          0.1285714285714286
         ],
         "title": {
          "text": "Amount ($)"
         }
        }
       }
      }
     },
     "metadata": {},
     "output_type": "display_data"
    },
    {
     "name": "stdout",
     "output_type": "stream",
     "text": [
      "DCAStrategy - Final Portfolio Value: $1138.51\n",
      "DCAStrategy - Total Transactions: 124\n"
     ]
    },
    {
     "name": "stderr",
     "output_type": "stream",
     "text": [
      "/tmp/ipykernel_63826/333491979.py:236: FutureWarning:\n",
      "\n",
      "'H' is deprecated and will be removed in a future version, please use 'h' instead.\n",
      "\n"
     ]
    },
    {
     "data": {
      "text/html": [
       "<h4>Performance Metrics</h4>"
      ],
      "text/plain": [
       "<IPython.core.display.HTML object>"
      ]
     },
     "metadata": {},
     "output_type": "display_data"
    },
    {
     "name": "stdout",
     "output_type": "stream",
     "text": [
      "                    Strategy\n",
      "------------------  ----------\n",
      "Start Period        2024-05-01\n",
      "End Period          2024-05-06\n",
      "Risk-Free Rate      0.0%\n",
      "Time in Market      100.0%\n",
      "\n",
      "Cumulative Return   13.85%\n",
      "CAGR﹪              68988.61%\n",
      "\n",
      "Sharpe              1.44\n",
      "Prob. Sharpe Ratio  84.84%\n",
      "Sortino             2.36\n",
      "Sortino/√2          1.67\n",
      "Omega               1.3\n",
      "\n",
      "Max Drawdown        -8.27%\n",
      "Longest DD Days     2\n",
      "\n",
      "Gain/Pain Ratio     3.19\n",
      "Gain/Pain (1M)      -\n",
      "\n",
      "Payoff Ratio        1.24\n",
      "Profit Factor       1.3\n",
      "Common Sense Ratio  1.65\n",
      "CPC Index           0.82\n",
      "Tail Ratio          1.27\n",
      "Outlier Win Ratio   3.62\n",
      "Outlier Loss Ratio  3.27\n",
      "\n",
      "MTD                 13.85%\n",
      "3M                  13.85%\n",
      "6M                  13.85%\n",
      "YTD                 13.85%\n",
      "1Y                  13.85%\n",
      "3Y (ann.)           68988.61%\n",
      "5Y (ann.)           68988.61%\n",
      "10Y (ann.)          68988.61%\n",
      "All-time (ann.)     68988.61%\n",
      "\n",
      "Avg. Drawdown       -2.31%\n",
      "Avg. Drawdown Days  1\n",
      "Recovery Factor     1.68\n",
      "Ulcer Index         0.03\n",
      "Serenity Index      1.02\n"
     ]
    },
    {
     "data": {
      "text/html": [
       "<h4>Strategy Visualization</h4>"
      ],
      "text/plain": [
       "<IPython.core.display.HTML object>"
      ]
     },
     "metadata": {},
     "output_type": "display_data"
    },
    {
     "name": "stderr",
     "output_type": "stream",
     "text": [
      "findfont: Font family 'Arial' not found.\n",
      "findfont: Font family 'Arial' not found.\n",
      "findfont: Font family 'Arial' not found.\n",
      "findfont: Font family 'Arial' not found.\n",
      "findfont: Font family 'Arial' not found.\n",
      "findfont: Font family 'Arial' not found.\n",
      "findfont: Font family 'Arial' not found.\n",
      "findfont: Font family 'Arial' not found.\n",
      "findfont: Font family 'Arial' not found.\n",
      "findfont: Font family 'Arial' not found.\n",
      "findfont: Font family 'Arial' not found.\n",
      "findfont: Font family 'Arial' not found.\n",
      "findfont: Font family 'Arial' not found.\n",
      "findfont: Font family 'Arial' not found.\n",
      "findfont: Font family 'Arial' not found.\n",
      "findfont: Font family 'Arial' not found.\n"
     ]
    },
    {
     "data": {
      "image/png": "[encoded data removed]",
      "text/plain": [
       "<Figure size 800x800 with 3 Axes>"
      ]
     },
     "metadata": {},
     "output_type": "display_data"
    },
    {
     "name": "stderr",
     "output_type": "stream",
     "text": [
      "findfont: Font family 'Arial' not found.\n",
      "findfont: Font family 'Arial' not found.\n",
      "findfont: Font family 'Arial' not found.\n",
      "findfont: Font family 'Arial' not found.\n",
      "findfont: Font family 'Arial' not found.\n",
      "findfont: Font family 'Arial' not found.\n",
      "findfont: Font family 'Arial' not found.\n",
      "findfont: Font family 'Arial' not found.\n"
     ]
    },
    {
     "data": {
      "image/png": "[encoded data removed]",
      "text/plain": [
       "<Figure size 840.8x400 with 2 Axes>"
      ]
     },
     "metadata": {},
     "output_type": "display_data"
    }
   ],
   "source": [
    "print(\"\\nRunning DCAStrategy...\")\n",
    "results_dca = run_trading_session(initial_balance, DCAStrategy, risk_level)\n",
    "print(f\"DCAStrategy - Final Portfolio Value: ${results_dca['portfolio_values'][-1]:.2f}\")\n",
    "generate_performance_report(results_dca)"
   ]
  }
 ],
 "metadata": {
  "kernelspec": {
   "display_name": ".venv",
   "language": "python",
   "name": "python3"
  },
  "language_info": {
   "codemirror_mode": {
    "name": "ipython",
    "version": 3
   },
   "file_extension": ".py",
   "mimetype": "text/x-python",
   "name": "python",
   "nbconvert_exporter": "python",
   "pygments_lexer": "ipython3",
   "version": "3.12.6"
  }
 },
 "nbformat": 4,
 "nbformat_minor": 2
}
